{
 "cells": [
  {
   "cell_type": "markdown",
   "metadata": {
    "id": "uuutyCx4YTpX"
   },
   "source": [
    "# Data Mining Lab 2\n",
    "In this lab session we will focus on the use of Neural Word Embeddings "
   ]
  },
  {
   "cell_type": "markdown",
   "metadata": {
    "id": "ledffNYYYTpX"
   },
   "source": [
    "## Table of Contents\n",
    "1. Data preparation\n",
    "2. Feature engineering\n",
    "3. Model\n",
    "4. Results evaluation\n",
    "5. Other things you could try\n",
    "6. Deep Learning\n",
    "7. Word to Vector\n",
    "8. Clustering\n",
    "9. High-dimension Visualization\n",
    "\n"
   ]
  },
  {
   "cell_type": "markdown",
   "metadata": {},
   "source": [
    "### Necessary Library Requirements:\n",
    "\n",
    "#### Same as Lab1:\n",
    "- [Jupyter](http://jupyter.org/) (Strongly recommended but not required)\n",
    "    - Install via `pip3 install jupyter` and use `jupyter notebook` in terminal to run\n",
    "- [Scikit Learn](http://scikit-learn.org/stable/index.html)\n",
    "    - Install via `pip3 sklearn` from a terminal\n",
    "- [Pandas](http://pandas.pydata.org/)\n",
    "    - Install via `pip3 install pandas` from a terminal\n",
    "- [Numpy](http://www.numpy.org/)\n",
    "    - Install via `pip3 install numpy` from a terminal\n",
    "- [Matplotlib](https://matplotlib.org/)\n",
    "    - Install via `pip3 maplotlib` from a terminal\n",
    "- [Plotly](https://plot.ly/)\n",
    "    - Install via `pip3 install plotly` from a terminal\n",
    "- [Seaborn](https://seaborn.pydata.org/)\n",
    "    - Install and signup for `seaborn`\n",
    "- [NLTK](http://www.nltk.org/)\n",
    "    - Install via `pip3 install nltk` from a terminal\n",
    "\n",
    "#### New Libraries to install:\n",
    "- [Gensim](https://pypi.org/project/gensim/)\n",
    "    - Install via `pip3 install gensim`\n",
    "\n",
    "- [tensorflow](https://www.tensorflow.org/)\n",
    "    - Install via `pip3 install tensorflow`\n",
    "    - Also install `pip3 install tensorflow-hub`\n",
    "\n",
    "- [Keras](https://keras.io/)\n",
    "    - Install via `pip3 install keras`"
   ]
  },
  {
   "cell_type": "markdown",
   "metadata": {
    "id": "LIpAqCvMYTpX"
   },
   "source": [
    "---\n",
    "## Introduction"
   ]
  },
  {
   "cell_type": "markdown",
   "metadata": {
    "id": "n2paPeNbYTpX"
   },
   "source": [
    "**Dataset:** [SemEval 2017 Task](https://competitions.codalab.org/competitions/16380)\n",
    "\n",
    "**Task:** Classify text data into 4 different emotions using word embedding and other deep information retrieval approaches.\n",
    "\n",
    "![pic0](pics/pic0.png)"
   ]
  },
  {
   "cell_type": "markdown",
   "metadata": {
    "id": "op_X7pR-YTpX"
   },
   "source": [
    "---\n",
    "## 1. Data Preparation"
   ]
  },
  {
   "cell_type": "markdown",
   "metadata": {
    "id": "ID-8I1ELYTpX"
   },
   "source": [
    "Before beggining the lab, please make sure to download the [Google News Dataset](https://drive.google.com/file/d/0B7XkCwpI5KDYNlNUTTlSS21pQmM/edit) and place it in a folder named \"GoogleNews\" in the same directory as this file."
   ]
  },
  {
   "cell_type": "markdown",
   "metadata": {
    "id": "pgoEbZzSYTpX"
   },
   "source": [
    "## 1.1 Load data\n",
    "\n",
    "We start by loading the csv files into a single pandas dataframe for training and one for testing."
   ]
  },
  {
   "cell_type": "code",
   "execution_count": 1,
   "metadata": {},
   "outputs": [],
   "source": [
    "import warnings\n",
    "warnings.filterwarnings('ignore')"
   ]
  },
  {
   "cell_type": "code",
   "execution_count": 1,
   "metadata": {
    "id": "anfjcPSSYTpX"
   },
   "outputs": [],
   "source": [
    "import pandas as pd\n",
    "\n",
    "\n",
    "### training data\n",
    "anger_train = pd.read_csv(\"data/semeval/train/anger-ratings-0to1.train.txt\",\n",
    "                         sep=\"\\t\", header=None,names=[\"id\", \"text\", \"emotion\", \"intensity\"])\n",
    "sadness_train = pd.read_csv(\"data/semeval/train/sadness-ratings-0to1.train.txt\",\n",
    "                         sep=\"\\t\", header=None, names=[\"id\", \"text\", \"emotion\", \"intensity\"])\n",
    "fear_train = pd.read_csv(\"data/semeval/train/fear-ratings-0to1.train.txt\",\n",
    "                         sep=\"\\t\", header=None, names=[\"id\", \"text\", \"emotion\", \"intensity\"])\n",
    "joy_train = pd.read_csv(\"data/semeval/train/joy-ratings-0to1.train.txt\",\n",
    "                         sep=\"\\t\", header=None, names=[\"id\", \"text\", \"emotion\", \"intensity\"])"
   ]
  },
  {
   "cell_type": "code",
   "execution_count": 2,
   "metadata": {
    "id": "yVc2T5MIYTpX"
   },
   "outputs": [],
   "source": [
    "# combine 4 sub-dataset\n",
    "train_df = pd.concat([anger_train, fear_train, joy_train, sadness_train], ignore_index=True)"
   ]
  },
  {
   "cell_type": "code",
   "execution_count": 3,
   "metadata": {
    "colab": {
     "base_uri": "https://localhost:8080/",
     "height": 206
    },
    "id": "Kw8bGMv7YTpX",
    "outputId": "9f6f7052-302e-4794-ef69-b84450b61b36"
   },
   "outputs": [
    {
     "data": {
      "text/html": [
       "<div>\n",
       "<style scoped>\n",
       "    .dataframe tbody tr th:only-of-type {\n",
       "        vertical-align: middle;\n",
       "    }\n",
       "\n",
       "    .dataframe tbody tr th {\n",
       "        vertical-align: top;\n",
       "    }\n",
       "\n",
       "    .dataframe thead th {\n",
       "        text-align: right;\n",
       "    }\n",
       "</style>\n",
       "<table border=\"1\" class=\"dataframe\">\n",
       "  <thead>\n",
       "    <tr style=\"text-align: right;\">\n",
       "      <th></th>\n",
       "      <th>id</th>\n",
       "      <th>text</th>\n",
       "      <th>emotion</th>\n",
       "      <th>intensity</th>\n",
       "    </tr>\n",
       "  </thead>\n",
       "  <tbody>\n",
       "    <tr>\n",
       "      <th>0</th>\n",
       "      <td>10000</td>\n",
       "      <td>How the fu*k! Who the heck! moved my fridge!.....</td>\n",
       "      <td>anger</td>\n",
       "      <td>0.938</td>\n",
       "    </tr>\n",
       "    <tr>\n",
       "      <th>1</th>\n",
       "      <td>10001</td>\n",
       "      <td>So my Indian Uber driver just called someone t...</td>\n",
       "      <td>anger</td>\n",
       "      <td>0.896</td>\n",
       "    </tr>\n",
       "    <tr>\n",
       "      <th>2</th>\n",
       "      <td>10002</td>\n",
       "      <td>@DPD_UK I asked for my parcel to be delivered ...</td>\n",
       "      <td>anger</td>\n",
       "      <td>0.896</td>\n",
       "    </tr>\n",
       "    <tr>\n",
       "      <th>3</th>\n",
       "      <td>10003</td>\n",
       "      <td>so ef whichever butt wipe pulled the fire alar...</td>\n",
       "      <td>anger</td>\n",
       "      <td>0.896</td>\n",
       "    </tr>\n",
       "    <tr>\n",
       "      <th>4</th>\n",
       "      <td>10004</td>\n",
       "      <td>Don't join @BTCare they put the phone down on ...</td>\n",
       "      <td>anger</td>\n",
       "      <td>0.896</td>\n",
       "    </tr>\n",
       "  </tbody>\n",
       "</table>\n",
       "</div>"
      ],
      "text/plain": [
       "      id                                               text emotion  intensity\n",
       "0  10000  How the fu*k! Who the heck! moved my fridge!.....   anger      0.938\n",
       "1  10001  So my Indian Uber driver just called someone t...   anger      0.896\n",
       "2  10002  @DPD_UK I asked for my parcel to be delivered ...   anger      0.896\n",
       "3  10003  so ef whichever butt wipe pulled the fire alar...   anger      0.896\n",
       "4  10004  Don't join @BTCare they put the phone down on ...   anger      0.896"
      ]
     },
     "execution_count": 3,
     "metadata": {},
     "output_type": "execute_result"
    }
   ],
   "source": [
    "### testing data\n",
    "anger_test = pd.read_csv(\"data/semeval/dev/anger-ratings-0to1.dev.gold.txt\",\n",
    "                         sep=\"\\t\", header=None, names=[\"id\", \"text\", \"emotion\", \"intensity\"])\n",
    "sadness_test = pd.read_csv(\"data/semeval/dev/sadness-ratings-0to1.dev.gold.txt\",\n",
    "                         sep=\"\\t\", header=None, names=[\"id\", \"text\", \"emotion\", \"intensity\"])\n",
    "fear_test = pd.read_csv(\"data/semeval/dev/fear-ratings-0to1.dev.gold.txt\",\n",
    "                         sep=\"\\t\", header=None, names=[\"id\", \"text\", \"emotion\", \"intensity\"])\n",
    "joy_test = pd.read_csv(\"data/semeval/dev/joy-ratings-0to1.dev.gold.txt\",\n",
    "                         sep=\"\\t\", header=None, names=[\"id\", \"text\", \"emotion\", \"intensity\"])\n",
    "\n",
    "# combine 4 sub-dataset\n",
    "test_df = pd.concat([anger_test, fear_test, joy_test, sadness_test], ignore_index=True)\n",
    "train_df.head()"
   ]
  },
  {
   "cell_type": "code",
   "execution_count": 4,
   "metadata": {
    "id": "HBHwcL8sYTpX"
   },
   "outputs": [],
   "source": [
    "# shuffle dataset\n",
    "train_df = train_df.sample(frac=1)\n",
    "test_df = test_df.sample(frac=1)"
   ]
  },
  {
   "cell_type": "code",
   "execution_count": 5,
   "metadata": {
    "colab": {
     "base_uri": "https://localhost:8080/"
    },
    "id": "9w_cDUwCYTpX",
    "outputId": "3582ac44-1f5f-4cb2-b833-d477f152461a",
    "scrolled": true
   },
   "outputs": [
    {
     "name": "stdout",
     "output_type": "stream",
     "text": [
      "Shape of Training df:  (3613, 4)\n",
      "Shape of Testing df:  (347, 4)\n"
     ]
    }
   ],
   "source": [
    "print(\"Shape of Training df: \", train_df.shape)\n",
    "print(\"Shape of Testing df: \", test_df.shape)"
   ]
  },
  {
   "cell_type": "markdown",
   "metadata": {
    "id": "escCgU1zYTpX"
   },
   "source": [
    "---\n",
    "### ** >>> Exercise 1 (Take home): **  \n",
    "Plot word frequency for Top 30 words in both train and test dataset. (Hint: refer to DM lab 1)\n"
   ]
  },
  {
   "cell_type": "code",
   "execution_count": 6,
   "metadata": {
    "id": "HoXjet3pYTpo"
   },
   "outputs": [],
   "source": [
    "# Answer here\n",
    "\n"
   ]
  },
  {
   "cell_type": "markdown",
   "metadata": {
    "id": "_hr8aKhlYTpo"
   },
   "source": [
    "---\n",
    "### 1.2 Save data"
   ]
  },
  {
   "cell_type": "markdown",
   "metadata": {
    "id": "Zm6GF2VvYTpo"
   },
   "source": [
    "We will save our data in Pickle format. The pickle module implements binary protocols for serializing and de-serializing a Python object structure.   \n",
    "  \n",
    "Some advantages for using pickle structure:  \n",
    "* Because it stores the attribute type, it's more convenient for cross-platform use.  \n",
    "* When your data is huge, it could use less space to store also consume less loading time.   "
   ]
  },
  {
   "cell_type": "code",
   "execution_count": 7,
   "metadata": {
    "id": "dZzepBdpYTpo"
   },
   "outputs": [],
   "source": [
    "## save to pickle file\n",
    "train_df.to_pickle(\"train_df.pkl\") \n",
    "test_df.to_pickle(\"test_df.pkl\")"
   ]
  },
  {
   "cell_type": "code",
   "execution_count": 8,
   "metadata": {
    "id": "H5uO-kOUYTpo"
   },
   "outputs": [],
   "source": [
    "import pandas as pd\n",
    "\n",
    "## load a pickle file\n",
    "train_df = pd.read_pickle(\"train_df.pkl\")\n",
    "test_df = pd.read_pickle(\"test_df.pkl\")"
   ]
  },
  {
   "cell_type": "markdown",
   "metadata": {
    "id": "_sLDcQzeYTpo"
   },
   "source": [
    "For more information: https://reurl.cc/0Dzqx"
   ]
  },
  {
   "cell_type": "markdown",
   "metadata": {
    "id": "dKHpxTzLYTpo"
   },
   "source": [
    "---\n",
    "### 1.3 Exploratory data analysis (EDA)\n",
    "\n",
    "Again, before getting our hands dirty, we need to explore a little bit and understand the data we're dealing with."
   ]
  },
  {
   "cell_type": "code",
   "execution_count": 9,
   "metadata": {
    "colab": {
     "base_uri": "https://localhost:8080/"
    },
    "id": "mLnEEliCYTpo",
    "outputId": "a253199b-cf8f-4cdc-b677-732be78993a3"
   },
   "outputs": [
    {
     "data": {
      "text/plain": [
       "emotion\n",
       "anger       857\n",
       "fear       1147\n",
       "joy         823\n",
       "sadness     786\n",
       "Name: text, dtype: int64"
      ]
     },
     "execution_count": 9,
     "metadata": {},
     "output_type": "execute_result"
    }
   ],
   "source": [
    "# group to find distribution\n",
    "train_df.groupby(['emotion']).count()['text']"
   ]
  },
  {
   "cell_type": "code",
   "execution_count": 10,
   "metadata": {
    "colab": {
     "base_uri": "https://localhost:8080/",
     "height": 241
    },
    "id": "pcVOe8nYYTpo",
    "outputId": "52c413c9-5a8f-450b-d99a-e541a76e95c7"
   },
   "outputs": [
    {
     "data": {
      "image/png": "[encoded data removed]",
      "text/plain": [
       "<Figure size 500x300 with 1 Axes>"
      ]
     },
     "metadata": {},
     "output_type": "display_data"
    }
   ],
   "source": [
    "%matplotlib inline\n",
    "import numpy as np\n",
    "import matplotlib.pyplot as plt\n",
    "\n",
    "# the histogram of the data\n",
    "labels = train_df['emotion'].unique()\n",
    "post_total = len(train_df)\n",
    "df1 = train_df.groupby(['emotion']).count()['text']\n",
    "df1 = df1.apply(lambda x: round(x*100/post_total,3))\n",
    "\n",
    "#plot\n",
    "fig, ax = plt.subplots(figsize=(5,3))\n",
    "plt.bar(df1.index,df1.values)\n",
    "\n",
    "#arrange\n",
    "plt.ylabel('% of instances')\n",
    "plt.xlabel('Emotion')\n",
    "plt.title('Emotion distribution')\n",
    "plt.grid(True)\n",
    "plt.show()"
   ]
  },
  {
   "cell_type": "code",
   "execution_count": 11,
   "metadata": {},
   "outputs": [],
   "source": [
    "import numpy as np"
   ]
  },
  {
   "cell_type": "markdown",
   "metadata": {
    "id": "B_jGcireYTpo"
   },
   "source": [
    "---"
   ]
  },
  {
   "cell_type": "markdown",
   "metadata": {
    "id": "hgHvhTJuYTpo"
   },
   "source": [
    "## 2. Feature engineering\n",
    "### Using Bag of Words\n",
    "Using scikit-learn ```CountVectorizer``` perform word frequency and use these as features to train a model.  \n",
    "http://scikit-learn.org/stable/modules/generated/sklearn.feature_extraction.text.CountVectorizer.html"
   ]
  },
  {
   "cell_type": "code",
   "execution_count": 12,
   "metadata": {
    "id": "rbl89LPUYTpo"
   },
   "outputs": [],
   "source": [
    "from sklearn.feature_extraction.text import CountVectorizer"
   ]
  },
  {
   "cell_type": "code",
   "execution_count": 13,
   "metadata": {
    "id": "Bo8_GP6qYTpo"
   },
   "outputs": [],
   "source": [
    "# build analyzers (bag-of-words)\n",
    "BOW_vectorizer = CountVectorizer() "
   ]
  },
  {
   "cell_type": "code",
   "execution_count": 14,
   "metadata": {
    "id": "Bz_m0xn7YTpo"
   },
   "outputs": [],
   "source": [
    "# 1. Learn a vocabulary dictionary of all tokens in the raw documents.\n",
    "BOW_vectorizer.fit(train_df['text'])\n",
    "\n",
    "# 2. Transform documents to document-term matrix.\n",
    "train_data_BOW_features = BOW_vectorizer.transform(train_df['text'])\n",
    "test_data_BOW_features = BOW_vectorizer.transform(test_df['text'])"
   ]
  },
  {
   "cell_type": "code",
   "execution_count": 15,
   "metadata": {
    "colab": {
     "base_uri": "https://localhost:8080/"
    },
    "id": "5cpCUVN8YTpo",
    "outputId": "c68d1f47-143e-4e56-c9bd-049c9c204e11"
   },
   "outputs": [
    {
     "data": {
      "text/plain": [
       "<3613x10115 sparse matrix of type '<class 'numpy.int64'>'\n",
       "\twith 51467 stored elements in Compressed Sparse Row format>"
      ]
     },
     "execution_count": 15,
     "metadata": {},
     "output_type": "execute_result"
    }
   ],
   "source": [
    "# check the result\n",
    "train_data_BOW_features"
   ]
  },
  {
   "cell_type": "code",
   "execution_count": 16,
   "metadata": {
    "colab": {
     "base_uri": "https://localhost:8080/"
    },
    "id": "irGLsag-YTpo",
    "outputId": "27e90366-d681-43ef-ab5f-7c3360b1a671"
   },
   "outputs": [
    {
     "data": {
      "text/plain": [
       "scipy.sparse._csr.csr_matrix"
      ]
     },
     "execution_count": 16,
     "metadata": {},
     "output_type": "execute_result"
    }
   ],
   "source": [
    "type(train_data_BOW_features)"
   ]
  },
  {
   "cell_type": "code",
   "execution_count": 17,
   "metadata": {
    "colab": {
     "base_uri": "https://localhost:8080/"
    },
    "id": "WqbR8KWNYTpo",
    "outputId": "50438b2b-731e-4031-8dfe-19d6c7831545",
    "scrolled": true
   },
   "outputs": [
    {
     "data": {
      "text/plain": [
       "array([[0, 0, 0, ..., 0, 0, 0],\n",
       "       [0, 0, 0, ..., 0, 0, 0],\n",
       "       [0, 0, 0, ..., 0, 0, 0],\n",
       "       ...,\n",
       "       [0, 0, 0, ..., 0, 0, 0],\n",
       "       [0, 0, 0, ..., 0, 0, 0],\n",
       "       [0, 0, 0, ..., 0, 0, 0]], dtype=uint8)"
      ]
     },
     "execution_count": 17,
     "metadata": {},
     "output_type": "execute_result"
    }
   ],
   "source": [
    "# add .toarray() to show\n",
    "train_data_BOW_features.toarray().astype(np.uint8)"
   ]
  },
  {
   "cell_type": "code",
   "execution_count": 18,
   "metadata": {
    "colab": {
     "base_uri": "https://localhost:8080/"
    },
    "id": "mL0xkGyGYTpo",
    "outputId": "c6245d02-a095-44d9-b00f-bb62936bee4a",
    "scrolled": false
   },
   "outputs": [
    {
     "data": {
      "text/plain": [
       "(3613, 10115)"
      ]
     },
     "execution_count": 18,
     "metadata": {},
     "output_type": "execute_result"
    }
   ],
   "source": [
    "# check the dimension\n",
    "train_data_BOW_features.shape"
   ]
  },
  {
   "cell_type": "code",
   "execution_count": 19,
   "metadata": {
    "colab": {
     "base_uri": "https://localhost:8080/"
    },
    "id": "iyRaxyBZYTpo",
    "outputId": "f1df1307-12a0-49b7-afcb-7ad840f886ca"
   },
   "outputs": [
    {
     "data": {
      "text/plain": [
       "array(['beck', 'beckett', 'become', 'becoming', 'becouse', 'becz', 'bed',\n",
       "       'beds', 'bedtime', 'bee'], dtype=object)"
      ]
     },
     "execution_count": 19,
     "metadata": {},
     "output_type": "execute_result"
    }
   ],
   "source": [
    "# observe some feature names\n",
    "feature_names = BOW_vectorizer.get_feature_names_out()\n",
    "feature_names[1000:1010]"
   ]
  },
  {
   "cell_type": "code",
   "execution_count": 20,
   "metadata": {},
   "outputs": [
    {
     "name": "stdout",
     "output_type": "stream",
     "text": [
      "Vocabulary: ['00' '000' '00pm' ... 'य_ब' 'सत' 'アニメ']\n",
      "\n",
      "Train data BOW features:\n",
      "      00  000  00pm  00tiffanyr  01  02  03  0303  034  04  ...  zoolander  \\\n",
      "0      0    0     0           0   0   0   0     0    0   0  ...          0   \n",
      "1      0    0     0           0   0   0   0     0    0   0  ...          0   \n",
      "2      0    0     0           0   0   0   0     0    0   0  ...          0   \n",
      "3      0    0     0           0   0   0   0     0    0   0  ...          0   \n",
      "4      0    0     0           0   0   0   0     0    0   0  ...          0   \n",
      "...   ..  ...   ...         ...  ..  ..  ..   ...  ...  ..  ...        ...   \n",
      "3608   0    0     0           0   0   0   0     0    0   0  ...          0   \n",
      "3609   0    0     0           0   0   0   0     0    0   0  ...          0   \n",
      "3610   0    0     0           0   0   0   0     0    0   0  ...          0   \n",
      "3611   0    0     0           0   0   0   0     0    0   0  ...          0   \n",
      "3612   0    0     0           0   0   0   0     0    0   0  ...          0   \n",
      "\n",
      "      zumba  óg  деньги  الخفجي  اليوم_الوطني  ध_य  य_ब  सत  アニメ  \n",
      "0         0   0       0       0             0    0    0   0    0  \n",
      "1         0   0       0       0             0    0    0   0    0  \n",
      "2         0   0       0       0             0    0    0   0    0  \n",
      "3         0   0       0       0             0    0    0   0    0  \n",
      "4         0   0       0       0             0    0    0   0    0  \n",
      "...     ...  ..     ...     ...           ...  ...  ...  ..  ...  \n",
      "3608      0   0       0       0             0    0    0   0    0  \n",
      "3609      0   0       0       0             0    0    0   0    0  \n",
      "3610      0   0       0       0             0    0    0   0    0  \n",
      "3611      0   0       0       0             0    0    0   0    0  \n",
      "3612      0   0       0       0             0    0    0   0    0  \n",
      "\n",
      "[3613 rows x 10115 columns]\n",
      "\n",
      "Test data BOW features:\n",
      "     00  000  00pm  00tiffanyr  01  02  03  0303  034  04  ...  zoolander  \\\n",
      "0     0    0     0           0   0   0   0     0    0   0  ...          0   \n",
      "1     0    0     0           0   0   0   0     0    0   0  ...          0   \n",
      "2     0    0     0           0   0   0   0     0    0   0  ...          0   \n",
      "3     0    0     0           0   0   0   0     0    0   0  ...          0   \n",
      "4     0    0     0           0   0   0   0     0    0   0  ...          0   \n",
      "..   ..  ...   ...         ...  ..  ..  ..   ...  ...  ..  ...        ...   \n",
      "342   0    0     0           0   0   0   0     0    0   0  ...          0   \n",
      "343   0    0     0           0   0   0   0     0    0   0  ...          0   \n",
      "344   0    0     0           0   0   0   0     0    0   0  ...          0   \n",
      "345   0    0     0           0   0   0   0     0    0   0  ...          0   \n",
      "346   0    0     0           0   0   0   0     0    0   0  ...          0   \n",
      "\n",
      "     zumba  óg  деньги  الخفجي  اليوم_الوطني  ध_य  य_ब  सत  アニメ  \n",
      "0        0   0       0       0             0    0    0   0    0  \n",
      "1        0   0       0       0             0    0    0   0    0  \n",
      "2        0   0       0       0             0    0    0   0    0  \n",
      "3        0   0       0       0             0    0    0   0    0  \n",
      "4        0   0       0       0             0    0    0   0    0  \n",
      "..     ...  ..     ...     ...           ...  ...  ...  ..  ...  \n",
      "342      0   0       0       0             0    0    0   0    0  \n",
      "343      0   0       0       0             0    0    0   0    0  \n",
      "344      0   0       0       0             0    0    0   0    0  \n",
      "345      0   0       0       0             0    0    0   0    0  \n",
      "346      0   0       0       0             0    0    0   0    0  \n",
      "\n",
      "[347 rows x 10115 columns]\n"
     ]
    }
   ],
   "source": [
    "print(\"Vocabulary:\", BOW_vectorizer.get_feature_names_out())\n",
    "\n",
    "print(\"\\nTrain data BOW features:\")\n",
    "print(pd.DataFrame(train_data_BOW_features.toarray(),\n",
    "                   columns = BOW_vectorizer.get_feature_names_out()))\n",
    "\n",
    "print(\"\\nTest data BOW features:\")\n",
    "print(pd.DataFrame(test_data_BOW_features.toarray(),\n",
    "                   columns = BOW_vectorizer.get_feature_names_out()))"
   ]
  },
  {
   "cell_type": "markdown",
   "metadata": {
    "id": "zm00p_sxYTpo"
   },
   "source": [
    " "
   ]
  },
  {
   "cell_type": "markdown",
   "metadata": {
    "id": "roSfgQKaYTpo"
   },
   "source": [
    "The embedding is done. We can technically feed this into our model. However, depending on the embedding technique you use and your model, your accuracy might not be as high, because:\n",
    "\n",
    "* curse of dimensionality  (we have 10,115 dimension now)\n",
    "* some important features are ignored (for example, some models using emoticons yeld better performance than counterparts)"
   ]
  },
  {
   "cell_type": "code",
   "execution_count": 21,
   "metadata": {
    "colab": {
     "base_uri": "https://localhost:8080/"
    },
    "id": "kx4YPbrdYTpo",
    "outputId": "3d8a8808-fb86-4fe6-93b5-93ba0124f845"
   },
   "outputs": [
    {
     "data": {
      "text/plain": [
       "False"
      ]
     },
     "execution_count": 21,
     "metadata": {},
     "output_type": "execute_result"
    }
   ],
   "source": [
    "\"😂\" in feature_names"
   ]
  },
  {
   "cell_type": "markdown",
   "metadata": {
    "id": "0MFzyA95YTpo"
   },
   "source": [
    "Let's try using another tokenizer below."
   ]
  },
  {
   "cell_type": "code",
   "execution_count": 22,
   "metadata": {
    "colab": {
     "base_uri": "https://localhost:8080/"
    },
    "id": "SttodxACYTpo",
    "outputId": "11fe3750-22b7-45bf-c15f-586d74c35c13"
   },
   "outputs": [
    {
     "name": "stderr",
     "output_type": "stream",
     "text": [
      "C:\\Users\\retna\\anaconda3\\Lib\\site-packages\\sklearn\\feature_extraction\\text.py:528: UserWarning: The parameter 'token_pattern' will not be used since 'tokenizer' is not None'\n",
      "  warnings.warn(\n"
     ]
    },
    {
     "data": {
      "text/plain": [
       "(3613, 500)"
      ]
     },
     "execution_count": 22,
     "metadata": {},
     "output_type": "execute_result"
    }
   ],
   "source": [
    "import nltk\n",
    "\n",
    "# build analyzers (bag-of-words)\n",
    "BOW_500 = CountVectorizer(max_features=500, tokenizer=nltk.word_tokenize) \n",
    "\n",
    "# apply analyzer to training data\n",
    "BOW_500.fit(train_df['text'])\n",
    "\n",
    "train_data_BOW_features_500 = BOW_500.transform(train_df['text'])\n",
    "\n",
    "## check dimension\n",
    "train_data_BOW_features_500.shape"
   ]
  },
  {
   "cell_type": "code",
   "execution_count": 23,
   "metadata": {
    "colab": {
     "base_uri": "https://localhost:8080/"
    },
    "id": "sPi42W0pYTpo",
    "outputId": "54682edb-fa13-4292-fa48-ae81cd08b14f"
   },
   "outputs": [
    {
     "data": {
      "text/plain": [
       "array([[0, 0, 0, ..., 0, 0, 0],\n",
       "       [0, 3, 0, ..., 0, 0, 0],\n",
       "       [0, 2, 0, ..., 0, 0, 0],\n",
       "       ...,\n",
       "       [0, 1, 0, ..., 0, 0, 0],\n",
       "       [0, 0, 0, ..., 0, 0, 0],\n",
       "       [0, 0, 0, ..., 0, 0, 0]], dtype=int64)"
      ]
     },
     "execution_count": 23,
     "metadata": {},
     "output_type": "execute_result"
    }
   ],
   "source": [
    "train_data_BOW_features_500.toarray()"
   ]
  },
  {
   "cell_type": "code",
   "execution_count": 24,
   "metadata": {
    "colab": {
     "base_uri": "https://localhost:8080/"
    },
    "id": "JCgAnTOfYTpo",
    "outputId": "bba03b17-8ca5-4942-a78f-df389c70cd1f"
   },
   "outputs": [
    {
     "data": {
      "text/plain": [
       "array(['change', 'cheer', 'cheerful', 'cheerfully', 'cheering', 'cheery',\n",
       "       'come', 'comes', 'could', 'country'], dtype=object)"
      ]
     },
     "execution_count": 24,
     "metadata": {},
     "output_type": "execute_result"
    }
   ],
   "source": [
    "# observe some feature names\n",
    "feature_names_500 = BOW_500.get_feature_names_out()\n",
    "feature_names_500[100:110]"
   ]
  },
  {
   "cell_type": "code",
   "execution_count": 25,
   "metadata": {
    "colab": {
     "base_uri": "https://localhost:8080/"
    },
    "id": "ubgedNi4YTpo",
    "outputId": "d4c8c862-7507-497c-fc76-a2730996bb40"
   },
   "outputs": [
    {
     "data": {
      "text/plain": [
       "True"
      ]
     },
     "execution_count": 25,
     "metadata": {},
     "output_type": "execute_result"
    }
   ],
   "source": [
    "\"😂\" in feature_names_500"
   ]
  },
  {
   "cell_type": "code",
   "execution_count": 26,
   "metadata": {},
   "outputs": [
    {
     "name": "stdout",
     "output_type": "stream",
     "text": [
      "\n",
      "Train data BOW features:\n",
      "      !  #  $  %  &  '  'd  'll  'm  're  ...  year  years  yet  you  your  \\\n",
      "0     0  0  0  0  0  1   0    0   0    0  ...     0      0    0    0     0   \n",
      "1     0  3  0  0  2  0   0    0   0    0  ...     0      0    0    0     0   \n",
      "2     0  2  0  0  0  1   0    0   0    0  ...     0      0    0    0     0   \n",
      "3     0  1  0  0  0  0   0    0   0    0  ...     0      0    0    0     0   \n",
      "4     1  0  0  0  0  0   0    0   0    0  ...     0      0    0    0     0   \n",
      "...  .. .. .. .. .. ..  ..  ...  ..  ...  ...   ...    ...  ...  ...   ...   \n",
      "3608  0  2  0  0  0  0   0    0   0    0  ...     0      0    0    0     0   \n",
      "3609  0  2  0  0  0  1   0    0   0    0  ...     0      0    0    1     0   \n",
      "3610  0  1  0  0  0  0   0    0   0    0  ...     0      0    0    0     0   \n",
      "3611  0  0  0  0  1  0   0    0   0    0  ...     0      0    0    0     0   \n",
      "3612  0  0  0  0  0  0   0    0   0    0  ...     0      0    0    0     0   \n",
      "\n",
      "      yourself  ’  “  ”  😂  \n",
      "0            0  0  0  0  0  \n",
      "1            0  0  0  0  0  \n",
      "2            0  0  0  0  0  \n",
      "3            0  0  0  0  0  \n",
      "4            0  0  0  0  0  \n",
      "...        ... .. .. .. ..  \n",
      "3608         0  0  0  0  0  \n",
      "3609         0  0  0  0  0  \n",
      "3610         0  0  0  0  0  \n",
      "3611         0  0  0  0  0  \n",
      "3612         0  0  0  0  0  \n",
      "\n",
      "[3613 rows x 500 columns]\n"
     ]
    }
   ],
   "source": [
    "print(\"\\nTrain data BOW features:\")\n",
    "print(pd.DataFrame(train_data_BOW_features_500.toarray(),\n",
    "                   columns = BOW_500.get_feature_names_out()))\n"
   ]
  },
  {
   "cell_type": "markdown",
   "metadata": {
    "id": "fj6TV4ngYTpo"
   },
   "source": [
    "---\n",
    "### ** >>> Exercise 2 (Take home): **  \n",
    "Generate an embedding using the TF-IDF vectorizer instead of th BOW one with 1000 features and show the feature names for features [100:110]."
   ]
  },
  {
   "cell_type": "code",
   "execution_count": 27,
   "metadata": {
    "id": "BOjVbgmxYTpo"
   },
   "outputs": [],
   "source": [
    "# Answer here\n"
   ]
  },
  {
   "cell_type": "markdown",
   "metadata": {
    "id": "e0BvbNAVYTpo"
   },
   "source": [
    "---\n",
    "## 3. Model\n",
    "### 3.1 Decision Trees\n",
    "Using scikit-learn ```DecisionTreeClassifier``` performs word frequency and uses these as features to train a model.  \n",
    "http://scikit-learn.org/stable/modules/generated/sklearn.tree.DecisionTreeClassifier.html#sklearn.tree.DecisionTreeClassifier"
   ]
  },
  {
   "cell_type": "code",
   "execution_count": 28,
   "metadata": {
    "colab": {
     "base_uri": "https://localhost:8080/"
    },
    "id": "SD0rMWKgYTpo",
    "outputId": "36873985-dd8e-40ac-8ff8-f297a21f69db"
   },
   "outputs": [
    {
     "name": "stdout",
     "output_type": "stream",
     "text": [
      "X_train.shape:  (3613, 500)\n",
      "y_train.shape:  (3613,)\n",
      "X_test.shape:  (347, 500)\n",
      "y_test.shape:  (347,)\n"
     ]
    }
   ],
   "source": [
    "from sklearn.tree import DecisionTreeClassifier\n",
    "\n",
    "# for a classificaiton problem, you need to provide both training & testing data\n",
    "X_train = BOW_500.transform(train_df['text'])\n",
    "y_train = train_df['emotion']\n",
    "\n",
    "X_test = BOW_500.transform(test_df['text'])\n",
    "y_test = test_df['emotion']\n",
    "\n",
    "## take a look at data dimension is a good habit  :)\n",
    "print('X_train.shape: ', X_train.shape)\n",
    "print('y_train.shape: ', y_train.shape)\n",
    "print('X_test.shape: ', X_test.shape)\n",
    "print('y_test.shape: ', y_test.shape)"
   ]
  },
  {
   "cell_type": "code",
   "execution_count": 29,
   "metadata": {
    "colab": {
     "base_uri": "https://localhost:8080/"
    },
    "id": "iDuvLf7TYTpo",
    "outputId": "892ea486-fe16-49fc-a57a-b507924d9549"
   },
   "outputs": [
    {
     "data": {
      "text/plain": [
       "array(['joy', 'joy', 'joy', 'fear', 'joy', 'anger', 'fear', 'joy', 'joy',\n",
       "       'fear'], dtype=object)"
      ]
     },
     "execution_count": 29,
     "metadata": {},
     "output_type": "execute_result"
    }
   ],
   "source": [
    "## build DecisionTree model\n",
    "DT_model = DecisionTreeClassifier(random_state=1)\n",
    "\n",
    "## training!\n",
    "DT_model = DT_model.fit(X_train, y_train)\n",
    "\n",
    "## predict!\n",
    "y_train_pred = DT_model.predict(X_train)\n",
    "y_test_pred = DT_model.predict(X_test)\n",
    "\n",
    "## so we get the pred result\n",
    "y_test_pred[:10]"
   ]
  },
  {
   "cell_type": "markdown",
   "metadata": {
    "id": "zqZHlDjxYTpo"
   },
   "source": [
    " "
   ]
  },
  {
   "cell_type": "markdown",
   "metadata": {
    "id": "iBNmBT50YTpo"
   },
   "source": [
    "---\n",
    "## 4. Results Evaluation"
   ]
  },
  {
   "cell_type": "markdown",
   "metadata": {
    "id": "-gQU_PbhYTpo"
   },
   "source": [
    "Now we will check the results of our model's performance"
   ]
  },
  {
   "cell_type": "code",
   "execution_count": 30,
   "metadata": {
    "colab": {
     "base_uri": "https://localhost:8080/"
    },
    "id": "A9yx3tv-YTpo",
    "outputId": "0b1e4f04-d7a5-4e0d-8351-66c2b802cc42"
   },
   "outputs": [
    {
     "name": "stdout",
     "output_type": "stream",
     "text": [
      "training accuracy: 0.99\n",
      "testing accuracy: 0.68\n"
     ]
    }
   ],
   "source": [
    "## accuracy\n",
    "from sklearn.metrics import accuracy_score\n",
    "\n",
    "acc_train = accuracy_score(y_true=y_train, y_pred=y_train_pred)\n",
    "acc_test = accuracy_score(y_true=y_test, y_pred=y_test_pred)\n",
    "\n",
    "print('training accuracy: {}'.format(round(acc_train, 2)))\n",
    "print('testing accuracy: {}'.format(round(acc_test, 2)))\n"
   ]
  },
  {
   "cell_type": "code",
   "execution_count": 31,
   "metadata": {
    "colab": {
     "base_uri": "https://localhost:8080/"
    },
    "id": "-wkOqjqiYTpo",
    "outputId": "f0538316-514a-4894-fb0f-ccc73204f598"
   },
   "outputs": [
    {
     "name": "stdout",
     "output_type": "stream",
     "text": [
      "              precision    recall  f1-score   support\n",
      "\n",
      "       anger       0.66      0.68      0.67        84\n",
      "        fear       0.66      0.69      0.67       110\n",
      "         joy       0.72      0.71      0.71        79\n",
      "     sadness       0.70      0.64      0.67        74\n",
      "\n",
      "    accuracy                           0.68       347\n",
      "   macro avg       0.68      0.68      0.68       347\n",
      "weighted avg       0.68      0.68      0.68       347\n",
      "\n"
     ]
    }
   ],
   "source": [
    "## precision, recall, f1-score,\n",
    "from sklearn.metrics import classification_report\n",
    "\n",
    "print(classification_report(y_true=y_test, y_pred=y_test_pred))"
   ]
  },
  {
   "cell_type": "code",
   "execution_count": 32,
   "metadata": {
    "colab": {
     "base_uri": "https://localhost:8080/"
    },
    "id": "N6mhrmKHYTpo",
    "outputId": "30efb505-d5e0-41f6-e72a-05302135a4db"
   },
   "outputs": [
    {
     "name": "stdout",
     "output_type": "stream",
     "text": [
      "[[57 18  6  3]\n",
      " [16 76  9  9]\n",
      " [ 6  9 56  8]\n",
      " [ 7 13  7 47]]\n"
     ]
    }
   ],
   "source": [
    "## check by confusion matrix\n",
    "from sklearn.metrics import confusion_matrix\n",
    "\n",
    "cm = confusion_matrix(y_true=y_test, y_pred=y_test_pred) \n",
    "print(cm)"
   ]
  },
  {
   "cell_type": "code",
   "execution_count": 33,
   "metadata": {
    "id": "-TcX8NA5YTpo"
   },
   "outputs": [],
   "source": [
    "# Funciton for visualizing confusion_matrix\n",
    "import matplotlib.pyplot as plt\n",
    "import seaborn as sns\n",
    "import numpy as np\n",
    "import itertools\n",
    "\n",
    "def plot_confusion_matrix(cm, classes, title='Confusion matrix',\n",
    "                          cmap=sns.cubehelix_palette(as_cmap=True)):\n",
    "    \"\"\"\n",
    "    This function is modified from: \n",
    "    http://scikit-learn.org/stable/auto_examples/model_selection/plot_confusion_matrix.html\n",
    "    \"\"\"\n",
    "    classes.sort()\n",
    "    tick_marks = np.arange(len(classes))    \n",
    "    \n",
    "    fig, ax = plt.subplots(figsize=(5,5))\n",
    "    im = ax.imshow(cm, interpolation='nearest', cmap=cmap)\n",
    "    ax.figure.colorbar(im, ax=ax)\n",
    "    ax.set(xticks=np.arange(cm.shape[1]),\n",
    "           yticks=np.arange(cm.shape[0]),\n",
    "           xticklabels = classes,\n",
    "           yticklabels = classes,\n",
    "           title = title,\n",
    "           xlabel = 'True label',\n",
    "           ylabel = 'Predicted label')\n",
    "\n",
    "    fmt = 'd'\n",
    "    thresh = cm.max() / 2.\n",
    "    for i, j in itertools.product(range(cm.shape[0]), range(cm.shape[1])):\n",
    "        plt.text(j, i, format(cm[i, j], fmt), horizontalalignment=\"center\", color=\"white\" if cm[i, j] > thresh else \"black\")\n",
    "    ylim_top = len(classes) - 0.5\n",
    "    plt.ylim([ylim_top, -.5])\n",
    "    plt.tight_layout()\n",
    "    plt.show()"
   ]
  },
  {
   "cell_type": "code",
   "execution_count": 34,
   "metadata": {
    "colab": {
     "base_uri": "https://localhost:8080/",
     "height": 363
    },
    "id": "1nBVOUpDYTpo",
    "outputId": "7f99188c-1f03-462e-971e-0c8238f4f0d7"
   },
   "outputs": [
    {
     "data": {
      "image/png": "[encoded data removed]",
      "text/plain": [
       "<Figure size 500x500 with 2 Axes>"
      ]
     },
     "metadata": {},
     "output_type": "display_data"
    }
   ],
   "source": [
    "# plot your confusion matrix\n",
    "my_tags = ['anger', 'fear', 'joy', 'sadness']\n",
    "plot_confusion_matrix(cm, classes=my_tags, title='Confusion matrix')"
   ]
  },
  {
   "cell_type": "markdown",
   "metadata": {
    "id": "l743vmwgYTpo"
   },
   "source": [
    "---\n",
    "### ** >>> Exercise 3 (Take home): **  \n",
    "Can you interpret the results above? What do they mean?"
   ]
  },
  {
   "cell_type": "code",
   "execution_count": 35,
   "metadata": {
    "id": "8pYICOxsYTpo"
   },
   "outputs": [],
   "source": [
    "# Answer here\n"
   ]
  },
  {
   "cell_type": "markdown",
   "metadata": {
    "id": "GaHpgl87YTpo"
   },
   "source": [
    "---\n",
    "### ** >>> Exercise 4 (Take home): **  \n",
    "Build a model using a ```Naive Bayes``` model and train it. What are the testing results? \n",
    "\n",
    "*Reference*: https://scikit-learn.org/stable/modules/generated/sklearn.naive_bayes.MultinomialNB.html"
   ]
  },
  {
   "cell_type": "code",
   "execution_count": 36,
   "metadata": {
    "id": "ZPvaHzpXYTpo"
   },
   "outputs": [],
   "source": [
    "# Answer here\n"
   ]
  },
  {
   "cell_type": "markdown",
   "metadata": {
    "id": "Xv2DqWQSYTpo"
   },
   "source": [
    "---\n",
    "### ** >>> Exercise 5 (Take home): **  \n",
    "\n",
    "How do the results from the Naive Bayes model and the Decision Tree model compare? How do you interpret these differences? Use the theoretical background covered in class to try and explain these differences."
   ]
  },
  {
   "cell_type": "code",
   "execution_count": 37,
   "metadata": {
    "id": "ALN_jHdlYTpo"
   },
   "outputs": [],
   "source": [
    "# Answer here\n"
   ]
  },
  {
   "cell_type": "markdown",
   "metadata": {
    "id": "ehlJ60lhYTpo"
   },
   "source": [
    "---"
   ]
  },
  {
   "cell_type": "markdown",
   "metadata": {
    "id": "79F_DaW-YTpo"
   },
   "source": [
    "## 5. Other things you can try"
   ]
  },
  {
   "cell_type": "markdown",
   "metadata": {
    "id": "_oeqpRu6YTpo"
   },
   "source": [
    "Thus, there are several things you can try that will affect your results. In order to yield better results, you can experiment by: \n",
    "- Trying different features (Feature engineering)e.g Word2Vec, PCA, LDA, FastText, Clustering\n",
    "- Trying different models\n",
    "- Analyzing your results and interpret them to improve your feature engineering/model building process\n",
    "- Iterate through the steps above until finding a satisfying result\n",
    "\n",
    "Remember that you should also consider the task at hand and the model you'll feed the data to. "
   ]
  },
  {
   "cell_type": "code",
   "execution_count": 38,
   "metadata": {},
   "outputs": [
    {
     "name": "stdout",
     "output_type": "stream",
     "text": [
      "training accuracy: 0.99\n",
      "testing accuracy: 0.71\n",
      "              precision    recall  f1-score   support\n",
      "\n",
      "       anger       0.68      0.68      0.68        84\n",
      "        fear       0.66      0.80      0.72       110\n",
      "         joy       0.77      0.72      0.75        79\n",
      "     sadness       0.82      0.61      0.70        74\n",
      "\n",
      "    accuracy                           0.71       347\n",
      "   macro avg       0.73      0.70      0.71       347\n",
      "weighted avg       0.72      0.71      0.71       347\n",
      "\n"
     ]
    }
   ],
   "source": [
    "from sklearn.ensemble import RandomForestClassifier\n",
    "\n",
    "rf_model= RandomForestClassifier(n_estimators=100, random_state=1)\n",
    "\n",
    "rf_model.fit(X_train,y_train)\n",
    "\n",
    "y_train_pred = rf_model.predict(X_train)\n",
    "y_test_pred = rf_model.predict(X_test)\n",
    "\n",
    "acc_train = accuracy_score(y_true=y_train, y_pred=y_train_pred)\n",
    "acc_test = accuracy_score(y_true=y_test, y_pred=y_test_pred)\n",
    "\n",
    "print('training accuracy: {}'.format(round(acc_train,2)))\n",
    "print('testing accuracy: {}'.format(round(acc_test,2)))\n",
    "\n",
    "print(classification_report(y_true=y_test,y_pred=y_test_pred))"
   ]
  },
  {
   "cell_type": "code",
   "execution_count": 40,
   "metadata": {},
   "outputs": [],
   "source": [
    "import os\n",
    "os.environ[\"PATH\"] += os.pathsep + 'C:/Program Files/Graphviz/bin'"
   ]
  },
  {
   "cell_type": "code",
   "execution_count": 41,
   "metadata": {},
   "outputs": [],
   "source": [
    "from sklearn.tree import export_graphviz\n",
    "import pydotplus\n",
    "\n",
    "for idx, tree in enumerate(rf_model.estimators_[:3]):\n",
    "    dot_data = export_graphviz(tree, out_file=None)\n",
    "    graph = pydotplus.graph_from_dot_data(dot_data)\n",
    "    graph.write_pdf(f\"random-forest-tree{idx}.pdf\")"
   ]
  },
  {
   "cell_type": "markdown",
   "metadata": {
    "id": "fiGUSmPLYTpo"
   },
   "source": [
    "---\n",
    "## 6. Deep Learning\n",
    "\n",
    "We use [Keras](https://keras.io/) to be our deep learning framwork, and follow the [Model (functional API)](https://keras.io/models/model/) to build a Deep Neural Network (DNN) model. Keras runs with Tensorflow in the backend. It's a nice abstraction to start working with NN models. \n",
    "\n",
    "Because Deep Learning is a 1-semester course, we can't talk about each detail about it in the lab session. Here, we only provide a simple template about how to build & run a DL model successfully. You can follow this template to design your model.\n",
    "\n",
    "We will begin by building a fully connected network, which looks like this:"
   ]
  },
  {
   "cell_type": "markdown",
   "metadata": {
    "id": "1nB0BTq2YTpo"
   },
   "source": [
    "![Fully Connected Network](pics/pic1.png)\n",
    "\n",
    "(source: https://github.com/drewnoff/spark-notebook-ml-labs/tree/master/labs/DLFramework)\n"
   ]
  },
  {
   "cell_type": "markdown",
   "metadata": {
    "id": "-EtVRGhNYTpo"
   },
   "source": [
    "### 6.1 Prepare data (X, y)"
   ]
  },
  {
   "cell_type": "code",
   "execution_count": 42,
   "metadata": {},
   "outputs": [],
   "source": [
    "from tensorflow import keras"
   ]
  },
  {
   "cell_type": "code",
   "execution_count": 43,
   "metadata": {
    "colab": {
     "base_uri": "https://localhost:8080/"
    },
    "id": "4mIdg2D6YTpo",
    "outputId": "8f4fa078-7e07-4b76-e5ee-163d123abde3"
   },
   "outputs": [
    {
     "name": "stdout",
     "output_type": "stream",
     "text": [
      "X_train.shape:  (3613, 500)\n",
      "y_train.shape:  (3613,)\n",
      "X_test.shape:  (347, 500)\n",
      "y_test.shape:  (347,)\n"
     ]
    }
   ],
   "source": [
    "# standardize name (X, y) \n",
    "X_train = BOW_500.transform(train_df['text'])\n",
    "y_train = train_df['emotion']\n",
    "\n",
    "X_test = BOW_500.transform(test_df['text'])\n",
    "y_test = test_df['emotion']\n",
    "\n",
    "## check dimension is a good habbit \n",
    "print('X_train.shape: ', X_train.shape)\n",
    "print('y_train.shape: ', y_train.shape)\n",
    "print('X_test.shape: ', X_test.shape)\n",
    "print('y_test.shape: ', y_test.shape)"
   ]
  },
  {
   "cell_type": "markdown",
   "metadata": {
    "id": "iBZZedZ2YTpo"
   },
   "source": [
    "### 6.2 Deal with categorical label (y)\n",
    "\n",
    "Rather than put your label `train_df['emotion']` directly into a model, we have to process these categorical (or say nominal) label by ourselves. \n",
    "\n",
    "Here, we use the basic method [one-hot encoding](https://en.wikipedia.org/wiki/One-hot) to transform our categorical  labels to numerical ones.\n"
   ]
  },
  {
   "cell_type": "code",
   "execution_count": 44,
   "metadata": {
    "colab": {
     "base_uri": "https://localhost:8080/"
    },
    "id": "SU95MCsSYTpo",
    "outputId": "7f536cfa-8eda-4c04-bbbb-f35caa203f88"
   },
   "outputs": [
    {
     "name": "stdout",
     "output_type": "stream",
     "text": [
      "check label:  ['anger' 'fear' 'joy' 'sadness']\n",
      "\n",
      "## Before convert\n",
      "y_train[0:4]:\n",
      " 3348    sadness\n",
      "402       anger\n",
      "2462        joy\n",
      "3181    sadness\n",
      "Name: emotion, dtype: object\n",
      "\n",
      "y_train.shape:  (3613,)\n",
      "y_test.shape:  (347,)\n",
      "\n",
      "\n",
      "## After convert\n",
      "y_train[0:4]:\n",
      " [[0. 0. 0. 1.]\n",
      " [1. 0. 0. 0.]\n",
      " [0. 0. 1. 0.]\n",
      " [0. 0. 0. 1.]]\n",
      "\n",
      "y_train.shape:  (3613, 4)\n",
      "y_test.shape:  (347, 4)\n"
     ]
    }
   ],
   "source": [
    "## deal with label (string -> one-hot)\n",
    "\n",
    "from sklearn.preprocessing import LabelEncoder\n",
    "\n",
    "label_encoder = LabelEncoder()\n",
    "label_encoder.fit(y_train)\n",
    "print('check label: ', label_encoder.classes_)\n",
    "print('\\n## Before convert')\n",
    "print('y_train[0:4]:\\n', y_train[0:4])\n",
    "print('\\ny_train.shape: ', y_train.shape)\n",
    "print('y_test.shape: ', y_test.shape)\n",
    "\n",
    "def label_encode(le, labels):\n",
    "    enc = le.transform(labels)\n",
    "    return keras.utils.to_categorical(enc)\n",
    "\n",
    "def label_decode(le, one_hot_label):\n",
    "    dec = np.argmax(one_hot_label, axis=1)\n",
    "    return le.inverse_transform(dec)\n",
    "\n",
    "y_train = label_encode(label_encoder, y_train)\n",
    "y_test = label_encode(label_encoder, y_test)\n",
    "\n",
    "print('\\n\\n## After convert')\n",
    "print('y_train[0:4]:\\n', y_train[0:4])\n",
    "print('\\ny_train.shape: ', y_train.shape)\n",
    "print('y_test.shape: ', y_test.shape)\n"
   ]
  },
  {
   "cell_type": "markdown",
   "metadata": {
    "id": "W4bqEcMbYTpo"
   },
   "source": [
    "### 6.3 Build model"
   ]
  },
  {
   "cell_type": "code",
   "execution_count": 45,
   "metadata": {
    "colab": {
     "base_uri": "https://localhost:8080/"
    },
    "id": "6sA7cx-oYTpo",
    "outputId": "9f544ca7-8ceb-45e4-a76d-bdc8ccdb329c"
   },
   "outputs": [
    {
     "name": "stdout",
     "output_type": "stream",
     "text": [
      "input_shape:  500\n",
      "output_shape:  4\n"
     ]
    }
   ],
   "source": [
    "# I/O check\n",
    "input_shape = X_train.shape[1]\n",
    "print('input_shape: ', input_shape)\n",
    "\n",
    "output_shape = len(label_encoder.classes_)\n",
    "print('output_shape: ', output_shape)"
   ]
  },
  {
   "cell_type": "markdown",
   "metadata": {
    "id": "8c-uWuloYTpo"
   },
   "source": [
    "![Imgur](pics/pic2.png)"
   ]
  },
  {
   "cell_type": "code",
   "execution_count": 46,
   "metadata": {
    "colab": {
     "base_uri": "https://localhost:8080/"
    },
    "id": "jTeBWTvgYTpo",
    "outputId": "3e88d40f-2179-40ea-89c6-55085cabd1c6"
   },
   "outputs": [
    {
     "name": "stdout",
     "output_type": "stream",
     "text": [
      "Model: \"model\"\n",
      "_________________________________________________________________\n",
      " Layer (type)                Output Shape              Param #   \n",
      "=================================================================\n",
      " input_1 (InputLayer)        [(None, 500)]             0         \n",
      "                                                                 \n",
      " dense (Dense)               (None, 64)                32064     \n",
      "                                                                 \n",
      " re_lu (ReLU)                (None, 64)                0         \n",
      "                                                                 \n",
      " dense_1 (Dense)             (None, 64)                4160      \n",
      "                                                                 \n",
      " re_lu_1 (ReLU)              (None, 64)                0         \n",
      "                                                                 \n",
      " dense_2 (Dense)             (None, 4)                 260       \n",
      "                                                                 \n",
      " softmax (Softmax)           (None, 4)                 0         \n",
      "                                                                 \n",
      "=================================================================\n",
      "Total params: 36484 (142.52 KB)\n",
      "Trainable params: 36484 (142.52 KB)\n",
      "Non-trainable params: 0 (0.00 Byte)\n",
      "_________________________________________________________________\n"
     ]
    }
   ],
   "source": [
    "#from keras.models import Model\n",
    "#from keras.layers import Input, Dense\n",
    "#from keras.layers import ReLU, Softmax\n",
    "\n",
    "from tensorflow.keras.models import Model\n",
    "from tensorflow.keras.layers import Input, Dense\n",
    "from tensorflow.keras.layers import ReLU, Softmax\n",
    "\n",
    "# input layer\n",
    "model_input = Input(shape=(input_shape, ))  # 500\n",
    "X = model_input\n",
    "\n",
    "# 1st hidden layer\n",
    "X_W1 = Dense(units=64)(X)  # 64\n",
    "H1 = ReLU()(X_W1)\n",
    "\n",
    "# 2nd hidden layer\n",
    "H1_W2 = Dense(units=64)(H1)  # 64\n",
    "H2 = ReLU()(H1_W2)\n",
    "\n",
    "# output layer\n",
    "H2_W3 = Dense(units=output_shape)(H2)  # 4\n",
    "H3 = Softmax()(H2_W3)\n",
    "\n",
    "model_output = H3\n",
    "\n",
    "# create model\n",
    "model = Model(inputs=[model_input], outputs=[model_output])\n",
    "\n",
    "# loss function & optimizer\n",
    "model.compile(optimizer='adam',\n",
    "              loss='categorical_crossentropy',\n",
    "              metrics=['accuracy'])\n",
    "\n",
    "# show model construction\n",
    "model.summary()"
   ]
  },
  {
   "cell_type": "markdown",
   "metadata": {
    "id": "nmTSDO2pYTpo"
   },
   "source": [
    "### 6.4 Train"
   ]
  },
  {
   "cell_type": "code",
   "execution_count": 47,
   "metadata": {},
   "outputs": [],
   "source": [
    "from tensorflow.keras.callbacks import CSVLogger"
   ]
  },
  {
   "cell_type": "code",
   "execution_count": 48,
   "metadata": {
    "colab": {
     "base_uri": "https://localhost:8080/"
    },
    "id": "Kl374LYqYTpo",
    "outputId": "75b1f651-b779-4efd-ff14-0b4a0e95d8db"
   },
   "outputs": [
    {
     "name": "stdout",
     "output_type": "stream",
     "text": [
      "Epoch 1/25\n",
      "113/113 [==============================] - 3s 9ms/step - loss: 1.3184 - accuracy: 0.3820 - val_loss: 1.2540 - val_accuracy: 0.4697\n",
      "Epoch 2/25\n",
      "113/113 [==============================] - 1s 4ms/step - loss: 0.9914 - accuracy: 0.6432 - val_loss: 0.9548 - val_accuracy: 0.6340\n",
      "Epoch 3/25\n",
      "113/113 [==============================] - 0s 4ms/step - loss: 0.5981 - accuracy: 0.7919 - val_loss: 0.8021 - val_accuracy: 0.7003\n",
      "Epoch 4/25\n",
      "113/113 [==============================] - 0s 4ms/step - loss: 0.4300 - accuracy: 0.8422 - val_loss: 0.7692 - val_accuracy: 0.6945\n",
      "Epoch 5/25\n",
      "113/113 [==============================] - 0s 4ms/step - loss: 0.3349 - accuracy: 0.8829 - val_loss: 0.8084 - val_accuracy: 0.7003\n",
      "Epoch 6/25\n",
      "113/113 [==============================] - 0s 4ms/step - loss: 0.2732 - accuracy: 0.9067 - val_loss: 0.8696 - val_accuracy: 0.7003\n",
      "Epoch 7/25\n",
      "113/113 [==============================] - 0s 4ms/step - loss: 0.2267 - accuracy: 0.9222 - val_loss: 0.9233 - val_accuracy: 0.7003\n",
      "Epoch 8/25\n",
      "113/113 [==============================] - 0s 4ms/step - loss: 0.1929 - accuracy: 0.9397 - val_loss: 0.9765 - val_accuracy: 0.6916\n",
      "Epoch 9/25\n",
      "113/113 [==============================] - 0s 4ms/step - loss: 0.1618 - accuracy: 0.9485 - val_loss: 1.0357 - val_accuracy: 0.6945\n",
      "Epoch 10/25\n",
      "113/113 [==============================] - 0s 4ms/step - loss: 0.1413 - accuracy: 0.9588 - val_loss: 1.0771 - val_accuracy: 0.6801\n",
      "Epoch 11/25\n",
      "113/113 [==============================] - 0s 3ms/step - loss: 0.1349 - accuracy: 0.9613 - val_loss: 1.1344 - val_accuracy: 0.6888\n",
      "Epoch 12/25\n",
      "113/113 [==============================] - 0s 3ms/step - loss: 0.1112 - accuracy: 0.9668 - val_loss: 1.2343 - val_accuracy: 0.6888\n",
      "Epoch 13/25\n",
      "113/113 [==============================] - 0s 4ms/step - loss: 0.1080 - accuracy: 0.9698 - val_loss: 1.2435 - val_accuracy: 0.6772\n",
      "Epoch 14/25\n",
      "113/113 [==============================] - 0s 4ms/step - loss: 0.0948 - accuracy: 0.9712 - val_loss: 1.3036 - val_accuracy: 0.6599\n",
      "Epoch 15/25\n",
      "113/113 [==============================] - 0s 4ms/step - loss: 0.0940 - accuracy: 0.9698 - val_loss: 1.2818 - val_accuracy: 0.6974\n",
      "Epoch 16/25\n",
      "113/113 [==============================] - 0s 4ms/step - loss: 0.0837 - accuracy: 0.9748 - val_loss: 1.3949 - val_accuracy: 0.6772\n",
      "Epoch 17/25\n",
      "113/113 [==============================] - 0s 4ms/step - loss: 0.0791 - accuracy: 0.9718 - val_loss: 1.3872 - val_accuracy: 0.6801\n",
      "Epoch 18/25\n",
      "113/113 [==============================] - 0s 4ms/step - loss: 0.0871 - accuracy: 0.9720 - val_loss: 1.4303 - val_accuracy: 0.6715\n",
      "Epoch 19/25\n",
      "113/113 [==============================] - 0s 4ms/step - loss: 0.0701 - accuracy: 0.9784 - val_loss: 1.4204 - val_accuracy: 0.7032\n",
      "Epoch 20/25\n",
      "113/113 [==============================] - 0s 4ms/step - loss: 0.0667 - accuracy: 0.9779 - val_loss: 1.4784 - val_accuracy: 0.6686\n",
      "Epoch 21/25\n",
      "113/113 [==============================] - 0s 4ms/step - loss: 0.0686 - accuracy: 0.9765 - val_loss: 1.4905 - val_accuracy: 0.6888\n",
      "Epoch 22/25\n",
      "113/113 [==============================] - 0s 4ms/step - loss: 0.0669 - accuracy: 0.9770 - val_loss: 1.5033 - val_accuracy: 0.6744\n",
      "Epoch 23/25\n",
      "113/113 [==============================] - 0s 3ms/step - loss: 0.0655 - accuracy: 0.9779 - val_loss: 1.5804 - val_accuracy: 0.6657\n",
      "Epoch 24/25\n",
      "113/113 [==============================] - 0s 4ms/step - loss: 0.0616 - accuracy: 0.9765 - val_loss: 1.5283 - val_accuracy: 0.6801\n",
      "Epoch 25/25\n",
      "113/113 [==============================] - 0s 4ms/step - loss: 0.0590 - accuracy: 0.9790 - val_loss: 1.5955 - val_accuracy: 0.6628\n",
      "training finish\n"
     ]
    }
   ],
   "source": [
    "#from keras.callbacks import CSVLogger\n",
    "csv_logger = CSVLogger('logs/training_log.csv')\n",
    "\n",
    "# training setting\n",
    "epochs = 25\n",
    "batch_size = 32\n",
    "\n",
    "# training!\n",
    "history = model.fit(X_train, y_train, \n",
    "                    epochs=epochs, \n",
    "                    batch_size=batch_size, \n",
    "                    callbacks=[csv_logger],\n",
    "                    validation_data = (X_test, y_test))\n",
    "print('training finish')"
   ]
  },
  {
   "cell_type": "markdown",
   "metadata": {
    "id": "ip8RYsvSYTpo"
   },
   "source": [
    "### 6.5 Predict on testing data"
   ]
  },
  {
   "cell_type": "code",
   "execution_count": 49,
   "metadata": {
    "colab": {
     "base_uri": "https://localhost:8080/"
    },
    "id": "xdnLuBYBYTpo",
    "outputId": "6e7e97b7-fe5c-44f6-9baa-a71335aa7b06"
   },
   "outputs": [
    {
     "name": "stdout",
     "output_type": "stream",
     "text": [
      "3/3 [==============================] - 0s 6ms/step\n"
     ]
    },
    {
     "data": {
      "text/plain": [
       "array([[4.9287062e-03, 4.1301170e-08, 9.9468273e-01, 3.8847607e-04],\n",
       "       [4.7348592e-01, 3.7638953e-01, 3.1025398e-03, 1.4702204e-01],\n",
       "       [5.8090165e-02, 1.7017394e-01, 6.5827483e-01, 1.1346102e-01],\n",
       "       [4.4007229e-05, 9.9995601e-01, 1.3322556e-10, 4.9604633e-08],\n",
       "       [2.2933165e-05, 1.1805348e-06, 9.9997592e-01, 4.8839539e-08]],\n",
       "      dtype=float32)"
      ]
     },
     "execution_count": 49,
     "metadata": {},
     "output_type": "execute_result"
    }
   ],
   "source": [
    "## predict\n",
    "pred_result = model.predict(X_test, batch_size=128)\n",
    "pred_result[:5]"
   ]
  },
  {
   "cell_type": "code",
   "execution_count": 50,
   "metadata": {
    "colab": {
     "base_uri": "https://localhost:8080/"
    },
    "id": "hSaXGEX-YTpo",
    "outputId": "d35b5fb3-74e5-44d9-ac1d-8a11cca023e4"
   },
   "outputs": [
    {
     "data": {
      "text/plain": [
       "array(['joy', 'anger', 'joy', 'fear', 'joy'], dtype=object)"
      ]
     },
     "execution_count": 50,
     "metadata": {},
     "output_type": "execute_result"
    }
   ],
   "source": [
    "pred_result = label_decode(label_encoder, pred_result)\n",
    "pred_result[:5]"
   ]
  },
  {
   "cell_type": "code",
   "execution_count": 51,
   "metadata": {
    "colab": {
     "base_uri": "https://localhost:8080/"
    },
    "id": "bRRHye9KYTp5",
    "outputId": "d4f240ef-5f59-4d90-e3a2-57b98ced3928"
   },
   "outputs": [
    {
     "name": "stdout",
     "output_type": "stream",
     "text": [
      "testing accuracy: 0.66\n"
     ]
    }
   ],
   "source": [
    "from sklearn.metrics import accuracy_score\n",
    "\n",
    "print('testing accuracy: {}'.format(round(accuracy_score(label_decode(label_encoder, y_test), pred_result), 2)))"
   ]
  },
  {
   "cell_type": "code",
   "execution_count": 52,
   "metadata": {
    "colab": {
     "base_uri": "https://localhost:8080/",
     "height": 834
    },
    "id": "ks2Q0aMsYTp5",
    "outputId": "8b802a69-6377-4f0a-c1fa-2f03e5abebd4"
   },
   "outputs": [
    {
     "data": {
      "text/html": [
       "<div>\n",
       "<style scoped>\n",
       "    .dataframe tbody tr th:only-of-type {\n",
       "        vertical-align: middle;\n",
       "    }\n",
       "\n",
       "    .dataframe tbody tr th {\n",
       "        vertical-align: top;\n",
       "    }\n",
       "\n",
       "    .dataframe thead th {\n",
       "        text-align: right;\n",
       "    }\n",
       "</style>\n",
       "<table border=\"1\" class=\"dataframe\">\n",
       "  <thead>\n",
       "    <tr style=\"text-align: right;\">\n",
       "      <th></th>\n",
       "      <th>epoch</th>\n",
       "      <th>accuracy</th>\n",
       "      <th>loss</th>\n",
       "      <th>val_accuracy</th>\n",
       "      <th>val_loss</th>\n",
       "    </tr>\n",
       "  </thead>\n",
       "  <tbody>\n",
       "    <tr>\n",
       "      <th>0</th>\n",
       "      <td>0</td>\n",
       "      <td>0.381954</td>\n",
       "      <td>1.318397</td>\n",
       "      <td>0.469741</td>\n",
       "      <td>1.254017</td>\n",
       "    </tr>\n",
       "    <tr>\n",
       "      <th>1</th>\n",
       "      <td>1</td>\n",
       "      <td>0.643233</td>\n",
       "      <td>0.991351</td>\n",
       "      <td>0.634006</td>\n",
       "      <td>0.954848</td>\n",
       "    </tr>\n",
       "    <tr>\n",
       "      <th>2</th>\n",
       "      <td>2</td>\n",
       "      <td>0.791863</td>\n",
       "      <td>0.598141</td>\n",
       "      <td>0.700288</td>\n",
       "      <td>0.802132</td>\n",
       "    </tr>\n",
       "    <tr>\n",
       "      <th>3</th>\n",
       "      <td>3</td>\n",
       "      <td>0.842236</td>\n",
       "      <td>0.429973</td>\n",
       "      <td>0.694524</td>\n",
       "      <td>0.769192</td>\n",
       "    </tr>\n",
       "    <tr>\n",
       "      <th>4</th>\n",
       "      <td>4</td>\n",
       "      <td>0.882923</td>\n",
       "      <td>0.334913</td>\n",
       "      <td>0.700288</td>\n",
       "      <td>0.808352</td>\n",
       "    </tr>\n",
       "    <tr>\n",
       "      <th>5</th>\n",
       "      <td>5</td>\n",
       "      <td>0.906726</td>\n",
       "      <td>0.273232</td>\n",
       "      <td>0.700288</td>\n",
       "      <td>0.869599</td>\n",
       "    </tr>\n",
       "    <tr>\n",
       "      <th>6</th>\n",
       "      <td>6</td>\n",
       "      <td>0.922225</td>\n",
       "      <td>0.226732</td>\n",
       "      <td>0.700288</td>\n",
       "      <td>0.923348</td>\n",
       "    </tr>\n",
       "    <tr>\n",
       "      <th>7</th>\n",
       "      <td>7</td>\n",
       "      <td>0.939662</td>\n",
       "      <td>0.192856</td>\n",
       "      <td>0.691643</td>\n",
       "      <td>0.976509</td>\n",
       "    </tr>\n",
       "    <tr>\n",
       "      <th>8</th>\n",
       "      <td>8</td>\n",
       "      <td>0.948519</td>\n",
       "      <td>0.161774</td>\n",
       "      <td>0.694524</td>\n",
       "      <td>1.035712</td>\n",
       "    </tr>\n",
       "    <tr>\n",
       "      <th>9</th>\n",
       "      <td>9</td>\n",
       "      <td>0.958760</td>\n",
       "      <td>0.141312</td>\n",
       "      <td>0.680115</td>\n",
       "      <td>1.077110</td>\n",
       "    </tr>\n",
       "    <tr>\n",
       "      <th>10</th>\n",
       "      <td>10</td>\n",
       "      <td>0.961251</td>\n",
       "      <td>0.134870</td>\n",
       "      <td>0.688761</td>\n",
       "      <td>1.134376</td>\n",
       "    </tr>\n",
       "    <tr>\n",
       "      <th>11</th>\n",
       "      <td>11</td>\n",
       "      <td>0.966787</td>\n",
       "      <td>0.111205</td>\n",
       "      <td>0.688761</td>\n",
       "      <td>1.234302</td>\n",
       "    </tr>\n",
       "    <tr>\n",
       "      <th>12</th>\n",
       "      <td>12</td>\n",
       "      <td>0.969831</td>\n",
       "      <td>0.108037</td>\n",
       "      <td>0.677233</td>\n",
       "      <td>1.243472</td>\n",
       "    </tr>\n",
       "    <tr>\n",
       "      <th>13</th>\n",
       "      <td>13</td>\n",
       "      <td>0.971215</td>\n",
       "      <td>0.094781</td>\n",
       "      <td>0.659942</td>\n",
       "      <td>1.303594</td>\n",
       "    </tr>\n",
       "    <tr>\n",
       "      <th>14</th>\n",
       "      <td>14</td>\n",
       "      <td>0.969831</td>\n",
       "      <td>0.094027</td>\n",
       "      <td>0.697406</td>\n",
       "      <td>1.281776</td>\n",
       "    </tr>\n",
       "    <tr>\n",
       "      <th>15</th>\n",
       "      <td>15</td>\n",
       "      <td>0.974813</td>\n",
       "      <td>0.083689</td>\n",
       "      <td>0.677233</td>\n",
       "      <td>1.394871</td>\n",
       "    </tr>\n",
       "    <tr>\n",
       "      <th>16</th>\n",
       "      <td>16</td>\n",
       "      <td>0.971769</td>\n",
       "      <td>0.079085</td>\n",
       "      <td>0.680115</td>\n",
       "      <td>1.387221</td>\n",
       "    </tr>\n",
       "    <tr>\n",
       "      <th>17</th>\n",
       "      <td>17</td>\n",
       "      <td>0.972045</td>\n",
       "      <td>0.087126</td>\n",
       "      <td>0.671470</td>\n",
       "      <td>1.430313</td>\n",
       "    </tr>\n",
       "    <tr>\n",
       "      <th>18</th>\n",
       "      <td>18</td>\n",
       "      <td>0.978411</td>\n",
       "      <td>0.070112</td>\n",
       "      <td>0.703170</td>\n",
       "      <td>1.420436</td>\n",
       "    </tr>\n",
       "    <tr>\n",
       "      <th>19</th>\n",
       "      <td>19</td>\n",
       "      <td>0.977858</td>\n",
       "      <td>0.066737</td>\n",
       "      <td>0.668588</td>\n",
       "      <td>1.478405</td>\n",
       "    </tr>\n",
       "    <tr>\n",
       "      <th>20</th>\n",
       "      <td>20</td>\n",
       "      <td>0.976474</td>\n",
       "      <td>0.068614</td>\n",
       "      <td>0.688761</td>\n",
       "      <td>1.490514</td>\n",
       "    </tr>\n",
       "    <tr>\n",
       "      <th>21</th>\n",
       "      <td>21</td>\n",
       "      <td>0.977027</td>\n",
       "      <td>0.066934</td>\n",
       "      <td>0.674352</td>\n",
       "      <td>1.503326</td>\n",
       "    </tr>\n",
       "    <tr>\n",
       "      <th>22</th>\n",
       "      <td>22</td>\n",
       "      <td>0.977858</td>\n",
       "      <td>0.065539</td>\n",
       "      <td>0.665706</td>\n",
       "      <td>1.580390</td>\n",
       "    </tr>\n",
       "    <tr>\n",
       "      <th>23</th>\n",
       "      <td>23</td>\n",
       "      <td>0.976474</td>\n",
       "      <td>0.061556</td>\n",
       "      <td>0.680115</td>\n",
       "      <td>1.528324</td>\n",
       "    </tr>\n",
       "    <tr>\n",
       "      <th>24</th>\n",
       "      <td>24</td>\n",
       "      <td>0.978965</td>\n",
       "      <td>0.059041</td>\n",
       "      <td>0.662824</td>\n",
       "      <td>1.595451</td>\n",
       "    </tr>\n",
       "  </tbody>\n",
       "</table>\n",
       "</div>"
      ],
      "text/plain": [
       "    epoch  accuracy      loss  val_accuracy  val_loss\n",
       "0       0  0.381954  1.318397      0.469741  1.254017\n",
       "1       1  0.643233  0.991351      0.634006  0.954848\n",
       "2       2  0.791863  0.598141      0.700288  0.802132\n",
       "3       3  0.842236  0.429973      0.694524  0.769192\n",
       "4       4  0.882923  0.334913      0.700288  0.808352\n",
       "5       5  0.906726  0.273232      0.700288  0.869599\n",
       "6       6  0.922225  0.226732      0.700288  0.923348\n",
       "7       7  0.939662  0.192856      0.691643  0.976509\n",
       "8       8  0.948519  0.161774      0.694524  1.035712\n",
       "9       9  0.958760  0.141312      0.680115  1.077110\n",
       "10     10  0.961251  0.134870      0.688761  1.134376\n",
       "11     11  0.966787  0.111205      0.688761  1.234302\n",
       "12     12  0.969831  0.108037      0.677233  1.243472\n",
       "13     13  0.971215  0.094781      0.659942  1.303594\n",
       "14     14  0.969831  0.094027      0.697406  1.281776\n",
       "15     15  0.974813  0.083689      0.677233  1.394871\n",
       "16     16  0.971769  0.079085      0.680115  1.387221\n",
       "17     17  0.972045  0.087126      0.671470  1.430313\n",
       "18     18  0.978411  0.070112      0.703170  1.420436\n",
       "19     19  0.977858  0.066737      0.668588  1.478405\n",
       "20     20  0.976474  0.068614      0.688761  1.490514\n",
       "21     21  0.977027  0.066934      0.674352  1.503326\n",
       "22     22  0.977858  0.065539      0.665706  1.580390\n",
       "23     23  0.976474  0.061556      0.680115  1.528324\n",
       "24     24  0.978965  0.059041      0.662824  1.595451"
      ]
     },
     "execution_count": 52,
     "metadata": {},
     "output_type": "execute_result"
    }
   ],
   "source": [
    "#Let's take a look at the training log\n",
    "training_log = pd.DataFrame()\n",
    "training_log = pd.read_csv(\"logs/training_log.csv\")\n",
    "training_log"
   ]
  },
  {
   "cell_type": "markdown",
   "metadata": {
    "id": "NoYqY0-tYTp5"
   },
   "source": [
    "---\n",
    "### ** >>> Exercise 6 (Take home): **  \n",
    "\n",
    "Plot the Training and Validation Accuracy and Loss (different plots), just like the images below.(Note: the pictures below are an example from a different model). How to interpret the graphs you got? How are they related to the concept of overfitting/underfitting covered in class?\n",
    "<table><tr>\n",
    "    <td><img src=\"pics/pic3.png\" style=\"width: 300px;\"/> </td>\n",
    "    <td><img src=\"pics/pic4.png\" style=\"width: 300px;\"/> </td>\n",
    "</tr></table>"
   ]
  },
  {
   "cell_type": "code",
   "execution_count": 53,
   "metadata": {
    "id": "AlhstCrlYTp5"
   },
   "outputs": [],
   "source": [
    "# Answer here\n"
   ]
  },
  {
   "cell_type": "markdown",
   "metadata": {
    "id": "UYabzgSGYTp5"
   },
   "source": [
    "---"
   ]
  },
  {
   "cell_type": "markdown",
   "metadata": {
    "id": "4e5eiVLOYTp5"
   },
   "source": [
    "### Note\n",
    "\n",
    "If you don't have a GPU (level is higher than GTX 1060) or you are not good at setting lots of things about computer, we recommend you to use the [kaggle kernel](https://www.kaggle.com/kernels) to do deep learning model training. They have already installed all the librarys and provided free GPU for you to use.\n",
    "\n",
    "Note however that you will only be able to run a kernel for 6 hours. After 6 hours of inactivity, your Kaggle kernel will shut down (meaning if your model takes more than 6 hours to train, you can't train it at once).\n",
    "\n",
    "\n",
    "### More Information for your reference\n",
    "\n",
    "* Keras document: https://keras.io/\n",
    "* Keras GitHub example: https://github.com/keras-team/keras/tree/master/examples\n",
    "* CS229: Machine Learning: http://cs229.stanford.edu/syllabus.html\n",
    "* Deep Learning cheatsheet: https://stanford.edu/~shervine/teaching/cs-229/cheatsheet-deep-learning\n",
    "* If you want to try TensorFlow or PyTorch: https://pytorch.org/tutorials/\n",
    "https://www.tensorflow.org/tutorials/quickstart/beginner"
   ]
  },
  {
   "cell_type": "markdown",
   "metadata": {
    "id": "IESBq48MYTp5"
   },
   "source": [
    "---\n",
    "## 7. Word2Vector\n",
    "\n",
    "We will introduce how to use `gensim` to train your word2vec model and how to load a pre-trained model.\n",
    "\n",
    "https://radimrehurek.com/gensim/index.html"
   ]
  },
  {
   "cell_type": "markdown",
   "metadata": {
    "id": "KRSDMhQ5YTp5"
   },
   "source": [
    "### 7.1 Prepare training corpus"
   ]
  },
  {
   "cell_type": "code",
   "execution_count": 54,
   "metadata": {
    "colab": {
     "base_uri": "https://localhost:8080/",
     "height": 206
    },
    "id": "6aBYrovJYTp5",
    "outputId": "3df27e8d-0a96-40a5-8e3d-3186bb1ea624"
   },
   "outputs": [
    {
     "data": {
      "text/html": [
       "<div>\n",
       "<style scoped>\n",
       "    .dataframe tbody tr th:only-of-type {\n",
       "        vertical-align: middle;\n",
       "    }\n",
       "\n",
       "    .dataframe tbody tr th {\n",
       "        vertical-align: top;\n",
       "    }\n",
       "\n",
       "    .dataframe thead th {\n",
       "        text-align: right;\n",
       "    }\n",
       "</style>\n",
       "<table border=\"1\" class=\"dataframe\">\n",
       "  <thead>\n",
       "    <tr style=\"text-align: right;\">\n",
       "      <th></th>\n",
       "      <th>id</th>\n",
       "      <th>text</th>\n",
       "      <th>text_tokenized</th>\n",
       "    </tr>\n",
       "  </thead>\n",
       "  <tbody>\n",
       "    <tr>\n",
       "      <th>3348</th>\n",
       "      <td>40521</td>\n",
       "      <td>@duncantrussell does Remo Williams ever actual...</td>\n",
       "      <td>[@, duncantrussell, does, Remo, Williams, ever...</td>\n",
       "    </tr>\n",
       "    <tr>\n",
       "      <th>402</th>\n",
       "      <td>10402</td>\n",
       "      <td>I guess #bradangelina &amp;gt; #anger &amp;gt; #blackl...</td>\n",
       "      <td>[I, guess, #, bradangelina, &amp;, gt, ;, #, anger...</td>\n",
       "    </tr>\n",
       "    <tr>\n",
       "      <th>2462</th>\n",
       "      <td>30458</td>\n",
       "      <td>me taking a picture by myself: *awkward smile*...</td>\n",
       "      <td>[me, taking, a, picture, by, myself, :, *, awk...</td>\n",
       "    </tr>\n",
       "    <tr>\n",
       "      <th>3181</th>\n",
       "      <td>40354</td>\n",
       "      <td>@chelseafc let them know it's the #blues</td>\n",
       "      <td>[@, chelseafc, let, them, know, it, 's, the, #...</td>\n",
       "    </tr>\n",
       "    <tr>\n",
       "      <th>99</th>\n",
       "      <td>10099</td>\n",
       "      <td>@politico @realDonaldTrump another angry white...</td>\n",
       "      <td>[@, politico, @, realDonaldTrump, another, ang...</td>\n",
       "    </tr>\n",
       "  </tbody>\n",
       "</table>\n",
       "</div>"
      ],
      "text/plain": [
       "         id                                               text  \\\n",
       "3348  40521  @duncantrussell does Remo Williams ever actual...   \n",
       "402   10402  I guess #bradangelina &gt; #anger &gt; #blackl...   \n",
       "2462  30458  me taking a picture by myself: *awkward smile*...   \n",
       "3181  40354           @chelseafc let them know it's the #blues   \n",
       "99    10099  @politico @realDonaldTrump another angry white...   \n",
       "\n",
       "                                         text_tokenized  \n",
       "3348  [@, duncantrussell, does, Remo, Williams, ever...  \n",
       "402   [I, guess, #, bradangelina, &, gt, ;, #, anger...  \n",
       "2462  [me, taking, a, picture, by, myself, :, *, awk...  \n",
       "3181  [@, chelseafc, let, them, know, it, 's, the, #...  \n",
       "99    [@, politico, @, realDonaldTrump, another, ang...  "
      ]
     },
     "execution_count": 54,
     "metadata": {},
     "output_type": "execute_result"
    }
   ],
   "source": [
    "## check library\n",
    "import gensim\n",
    "\n",
    "## ignore warnings\n",
    "import warnings\n",
    "warnings.filterwarnings('ignore')\n",
    "\n",
    "# # if you want to see the training messages, you can use it\n",
    "# import logging\n",
    "# logging.basicConfig(format='%(asctime)s : %(levelname)s : %(message)s', level=logging.INFO)\n",
    "\n",
    "## the input type\n",
    "train_df['text_tokenized'] = train_df['text'].apply(lambda x: nltk.word_tokenize(x))\n",
    "train_df[['id', 'text', 'text_tokenized']].head()"
   ]
  },
  {
   "cell_type": "code",
   "execution_count": 55,
   "metadata": {
    "colab": {
     "base_uri": "https://localhost:8080/"
    },
    "id": "okFIEcmnYTp5",
    "outputId": "17a7ccde-3595-4837-f8d2-91698348fb22"
   },
   "outputs": [
    {
     "data": {
      "text/plain": [
       "array([list(['@', 'duncantrussell', 'does', 'Remo', 'Williams', 'ever', 'actually', \"'save\", \"'\", 'anyone', 'or', 'does', 'he', 'just', 'sulk', 'around', 'killing', 'random', 'undesirables', '?']),\n",
       "       list(['I', 'guess', '#', 'bradangelina', '&', 'gt', ';', '#', 'anger', '&', 'gt', ';', '#', 'blacklivesmatter']),\n",
       "       list(['me', 'taking', 'a', 'picture', 'by', 'myself', ':', '*', 'awkward', 'smile', '*', '\\\\nme', 'on', 'picture', 'day', ':', '*', 'awkward', 'smile', '*', '\\\\nconclusion', ':', 'stop', 'smiling', ';', \"'\", '(', '\\\\n', '#', 'pictureday2016', '#', 'ornot'])],\n",
       "      dtype=object)"
      ]
     },
     "execution_count": 55,
     "metadata": {},
     "output_type": "execute_result"
    }
   ],
   "source": [
    "## create the training corpus\n",
    "training_corpus = train_df['text_tokenized'].values\n",
    "training_corpus[:3]"
   ]
  },
  {
   "cell_type": "markdown",
   "metadata": {
    "id": "dOgAriPRYTp5"
   },
   "source": [
    "### 7.2 Training our model\n",
    "\n",
    "You can try to train your own model. More details: https://radimrehurek.com/gensim/models/word2vec.html"
   ]
  },
  {
   "cell_type": "code",
   "execution_count": 56,
   "metadata": {
    "id": "72ZA54IDYTp5",
    "scrolled": true
   },
   "outputs": [],
   "source": [
    "from gensim.models import Word2Vec\n",
    "\n",
    "## setting\n",
    "vector_dim = 100\n",
    "window_size = 5\n",
    "min_count = 1\n",
    "training_epochs = 20\n",
    "\n",
    "## model\n",
    "word2vec_model = Word2Vec(sentences=training_corpus, \n",
    "                          vector_size=vector_dim, window=window_size, \n",
    "                          min_count=min_count, epochs=training_epochs)"
   ]
  },
  {
   "cell_type": "markdown",
   "metadata": {
    "id": "ob0Molb3YTp5"
   },
   "source": [
    "![Imgur](https://i.imgur.com/Fca3MCs.png)"
   ]
  },
  {
   "cell_type": "markdown",
   "metadata": {
    "id": "E0jjvjN5YTp5"
   },
   "source": [
    "### 7.3 Generating word vector (embeddings)"
   ]
  },
  {
   "cell_type": "code",
   "execution_count": 57,
   "metadata": {
    "colab": {
     "base_uri": "https://localhost:8080/"
    },
    "id": "4ejofZfCYTp5",
    "outputId": "b6e8683c-4368-41e4-b05b-868822b9c406"
   },
   "outputs": [
    {
     "data": {
      "text/plain": [
       "array([ 0.9140195 ,  0.16208631, -0.14616558,  0.1154444 ,  0.00588203,\n",
       "       -1.2927737 ,  0.32809895,  1.5158805 , -0.45805526, -0.5422613 ,\n",
       "       -0.10425097, -0.5207344 , -0.38154593,  0.22300193, -0.18662415,\n",
       "       -0.44535092,  0.77388614, -0.15785283,  0.34265092, -1.010949  ,\n",
       "        0.57879615,  0.81474674,  0.94200224, -0.08995308, -0.38535774,\n",
       "        0.18247017, -0.80765206,  0.50884765, -0.13347346, -0.33892652,\n",
       "        0.31835565,  0.25683573,  0.4888543 , -0.78125596, -0.00445835,\n",
       "        0.38757333,  0.19051865,  0.11608365, -0.16152686, -0.12730275,\n",
       "        0.02220769, -0.10822251, -0.06977358,  0.39009726,  0.49054918,\n",
       "       -0.14404613, -0.9947477 , -0.04078394,  0.27525666,  0.12373357,\n",
       "       -0.2968694 , -0.47857213,  0.09313641, -0.02960122, -0.62817985,\n",
       "       -0.50353587,  0.36161357, -0.26608738, -0.2330828 ,  0.20731086,\n",
       "        0.19272399, -0.33496746,  0.4807307 ,  0.17616189, -0.5421366 ,\n",
       "        0.8009964 ,  0.13012442,  0.59718615, -1.6780275 ,  0.4615608 ,\n",
       "        0.08813979,  0.38071793,  0.7648672 , -0.50446165,  0.8687337 ,\n",
       "       -0.2555845 ,  0.59221673, -0.09834555, -0.94147193, -0.10010853,\n",
       "       -0.68935084, -0.41413036, -0.91271216,  0.6961407 ,  0.13824722,\n",
       "       -0.71297747,  0.86484736,  0.3410254 ,  0.05896812,  0.68511647,\n",
       "        1.0478407 , -0.15275687,  0.39172536, -0.01996431,  1.2375215 ,\n",
       "       -0.18320508,  0.201086  , -0.15083505,  0.47033074,  0.65526664],\n",
       "      dtype=float32)"
      ]
     },
     "execution_count": 57,
     "metadata": {},
     "output_type": "execute_result"
    }
   ],
   "source": [
    "# get the corresponding vector of a word\n",
    "word_vec = word2vec_model.wv['happy']\n",
    "word_vec"
   ]
  },
  {
   "cell_type": "code",
   "execution_count": 58,
   "metadata": {
    "colab": {
     "base_uri": "https://localhost:8080/"
    },
    "id": "9dUSkCscYTp5",
    "outputId": "ebd32d0b-bcda-4140-805e-35dfef1a68fb"
   },
   "outputs": [
    {
     "data": {
      "text/plain": [
       "[('smile', 0.919185221195221),\n",
       " ('Be', 0.9026393294334412),\n",
       " ('help', 0.8956050276756287),\n",
       " ('blessed', 0.8943686485290527),\n",
       " ('Makes', 0.8894269466400146),\n",
       " ('liked', 0.8883593678474426),\n",
       " ('meant', 0.8873265385627747),\n",
       " ('pls', 0.8847470879554749),\n",
       " ('right', 0.8832608461380005),\n",
       " ('A4', 0.8816121220588684)]"
      ]
     },
     "execution_count": 58,
     "metadata": {},
     "output_type": "execute_result"
    }
   ],
   "source": [
    "# Get the most similar words\n",
    "word = 'happy'\n",
    "topn = 10\n",
    "word2vec_model.wv.most_similar(word, topn=topn)"
   ]
  },
  {
   "cell_type": "markdown",
   "metadata": {
    "id": "zuQvZVJvYTp5"
   },
   "source": [
    "### 7.4 Using a pre-trained w2v model\n",
    "\n",
    "Instead of training your own model ,you can use a model that has already been trained. Here, we see 2 ways of doing that:\n",
    "\n",
    "\n",
    "#### (1) Download model by yourself\n",
    "\n",
    "source: [GoogleNews-vectors-negative300](https://drive.google.com/file/d/0B7XkCwpI5KDYNlNUTTlSS21pQmM/view?resourcekey=0-wjGZdNAUop6WykTtMip30g)\n",
    "\n",
    "more details: https://radimrehurek.com/gensim/models/keyedvectors.html"
   ]
  },
  {
   "cell_type": "code",
   "execution_count": 66,
   "metadata": {
    "colab": {
     "base_uri": "https://localhost:8080/"
    },
    "id": "bdH9E9auYTp5",
    "outputId": "6193f5df-93cb-4c77-96fb-2d36b5d71835"
   },
   "outputs": [
    {
     "name": "stdout",
     "output_type": "stream",
     "text": [
      "load ok\n"
     ]
    },
    {
     "data": {
      "text/plain": [
       "[('glad', 0.7408890724182129),\n",
       " ('pleased', 0.6632171273231506),\n",
       " ('ecstatic', 0.6626912355422974),\n",
       " ('overjoyed', 0.6599286198616028),\n",
       " ('thrilled', 0.6514049172401428),\n",
       " ('satisfied', 0.6437948942184448),\n",
       " ('proud', 0.636042058467865),\n",
       " ('delighted', 0.6272379159927368),\n",
       " ('disappointed', 0.6269949078559875),\n",
       " ('excited', 0.6247666478157043)]"
      ]
     },
     "execution_count": 66,
     "metadata": {},
     "output_type": "execute_result"
    }
   ],
   "source": [
    "from gensim.models import KeyedVectors\n",
    "\n",
    "## Note: this model is very huge, this will take some time ...\n",
    "#model_path = \"GoogleNews/GoogleNews-vectors-negative300.bin.gz\"\n",
    "model_path = 'GoogleNews-vectors-negative300.bin.gz'\n",
    "w2v_google_model = KeyedVectors.load_word2vec_format(model_path, binary=True)\n",
    "print('load ok')\n",
    "\n",
    "w2v_google_model.most_similar('happy', topn=10)"
   ]
  },
  {
   "cell_type": "markdown",
   "metadata": {
    "id": "NdQ9ul0eYTp5"
   },
   "source": [
    "#### (2) Using gensim api\n",
    "\n",
    "Other pretrained models are available here: https://github.com/RaRe-Technologies/gensim-data"
   ]
  },
  {
   "cell_type": "code",
   "execution_count": 63,
   "metadata": {
    "colab": {
     "base_uri": "https://localhost:8080/"
    },
    "id": "oIxHpNB6YTp5",
    "outputId": "8dc8d6f9-80b3-4cff-810d-28f175f5b891"
   },
   "outputs": [
    {
     "name": "stdout",
     "output_type": "stream",
     "text": [
      "load ok\n"
     ]
    },
    {
     "data": {
      "text/plain": [
       "[('birthday', 0.9577817320823669),\n",
       " ('thank', 0.937666654586792),\n",
       " ('welcome', 0.9336148500442505),\n",
       " ('love', 0.9176183342933655),\n",
       " ('miss', 0.9164499640464783),\n",
       " ('hello', 0.9158352017402649),\n",
       " ('thanks', 0.9150084853172302),\n",
       " ('merry', 0.9053248763084412),\n",
       " ('bless', 0.9027323722839355),\n",
       " ('wish', 0.9013165235519409)]"
      ]
     },
     "execution_count": 63,
     "metadata": {},
     "output_type": "execute_result"
    }
   ],
   "source": [
    "import gensim.downloader as api\n",
    "\n",
    "## If you see `SSL: CERTIFICATE_VERIFY_FAILED` error, use this:\n",
    "import ssl\n",
    "import urllib.request\n",
    "ssl._create_default_https_context = ssl._create_unverified_context\n",
    "\n",
    "glove_twitter_25_model = api.load(\"glove-twitter-25\")\n",
    "print('load ok')\n",
    "\n",
    "glove_twitter_25_model.most_similar('happy', topn=10)"
   ]
  },
  {
   "cell_type": "markdown",
   "metadata": {
    "id": "GCNDNqeXYTp5"
   },
   "source": [
    "### 7.5 king + woman - man = ?"
   ]
  },
  {
   "cell_type": "markdown",
   "metadata": {
    "id": "_GtCRr_7YTp5"
   },
   "source": [
    "Let's run one of the most famous examples for Word2Vec and compute the similarity between these 3 words:"
   ]
  },
  {
   "cell_type": "code",
   "execution_count": 64,
   "metadata": {
    "colab": {
     "base_uri": "https://localhost:8080/"
    },
    "id": "Zew7m_kIYTp5",
    "outputId": "807bc2d0-c2c1-4b96-e61d-a62e6096aa1e"
   },
   "outputs": [
    {
     "ename": "NameError",
     "evalue": "name 'w2v_google_model' is not defined",
     "output_type": "error",
     "traceback": [
      "\u001b[1;31m---------------------------------------------------------------------------\u001b[0m",
      "\u001b[1;31mNameError\u001b[0m                                 Traceback (most recent call last)",
      "Cell \u001b[1;32mIn[64], line 1\u001b[0m\n\u001b[1;32m----> 1\u001b[0m w2v_google_model\u001b[38;5;241m.\u001b[39mmost_similar(positive\u001b[38;5;241m=\u001b[39m[\u001b[38;5;124m'\u001b[39m\u001b[38;5;124mking\u001b[39m\u001b[38;5;124m'\u001b[39m, \u001b[38;5;124m'\u001b[39m\u001b[38;5;124mwoman\u001b[39m\u001b[38;5;124m'\u001b[39m], negative\u001b[38;5;241m=\u001b[39m[\u001b[38;5;124m'\u001b[39m\u001b[38;5;124mman\u001b[39m\u001b[38;5;124m'\u001b[39m])\n",
      "\u001b[1;31mNameError\u001b[0m: name 'w2v_google_model' is not defined"
     ]
    }
   ],
   "source": [
    "w2v_google_model.most_similar(positive=['king', 'woman'], negative=['man'])"
   ]
  },
  {
   "cell_type": "markdown",
   "metadata": {
    "id": "y3RQVnBOYTp5"
   },
   "source": [
    "---\n",
    "### ** >>> Exercise 7 (Take home): **  \n",
    "\n",
    "Now, we have the word vectors, but our input data is a sequence of words (or say sentence). \n",
    "How can we utilize these \"word\" vectors to represent the sentence data and train our model?\n"
   ]
  },
  {
   "cell_type": "code",
   "execution_count": null,
   "metadata": {
    "id": "TBwRT93DYTp5"
   },
   "outputs": [],
   "source": [
    "# Answer here\n",
    "\n"
   ]
  },
  {
   "cell_type": "markdown",
   "metadata": {
    "id": "LrK7O1KDYTp5"
   },
   "source": [
    "### 8. Clustering: k-means\n",
    "\n",
    "Here we introduce how to use `sklearn` to do the basic **unsupervised learning** approach, k-means.    \n",
    "\n",
    "more details: http://scikit-learn.org/stable/modules/generated/sklearn.cluster.KMeans.html\n"
   ]
  },
  {
   "cell_type": "markdown",
   "metadata": {
    "id": "Hr8_IxwBYTp5"
   },
   "source": [
    "#### Basic concept\n",
    "\n",
    "![Image](https://i.imgur.com/PEdUf54.png)\n",
    "\n",
    "(img source: https://towardsdatascience.com/k-means-clustering-identifying-f-r-i-e-n-d-s-in-the-world-of-strangers-695537505d)"
   ]
  },
  {
   "cell_type": "code",
   "execution_count": null,
   "metadata": {
    "colab": {
     "base_uri": "https://localhost:8080/"
    },
    "id": "6heUPVwWYTp5",
    "outputId": "46a95152-7852-49d5-c055-f24ac1a04aa3"
   },
   "outputs": [],
   "source": [
    "# clustering target\n",
    "target_list = ['happy', 'fear', 'angry', 'car', 'teacher', 'computer']\n",
    "print('target words: ', target_list)\n",
    "\n",
    "# convert to word vector\n",
    "X = [word2vec_model.wv[word] for word in target_list]"
   ]
  },
  {
   "cell_type": "code",
   "execution_count": null,
   "metadata": {
    "colab": {
     "base_uri": "https://localhost:8080/"
    },
    "id": "E9t_sJrvYTp5",
    "outputId": "47d70112-5490-47cc-8014-1b5b7dadbb26"
   },
   "outputs": [],
   "source": [
    "from sklearn.cluster import KMeans\n",
    "\n",
    "# we have to decide how many cluster (k) we want\n",
    "k = 2\n",
    "\n",
    "# k-means model\n",
    "kmeans_model = KMeans(n_clusters=k)\n",
    "kmeans_model.fit(X)\n",
    "\n",
    "# cluster result\n",
    "cluster_result = kmeans_model.labels_\n",
    "\n",
    "# show\n",
    "for i in range(len(target_list)):\n",
    "    print('word: {} \\t cluster: {}'.format(target_list[i], cluster_result[i]))"
   ]
  },
  {
   "cell_type": "markdown",
   "metadata": {
    "id": "QcDTL7kRYTp5"
   },
   "source": [
    "![Imgur](pics/pic6.png)"
   ]
  },
  {
   "cell_type": "code",
   "execution_count": null,
   "metadata": {
    "colab": {
     "base_uri": "https://localhost:8080/"
    },
    "id": "NIMFax_uYTp5",
    "outputId": "2f2df2f8-98d2-426b-8ced-719be6a03281"
   },
   "outputs": [],
   "source": [
    "#check cluster membership\n",
    "word = 'student'\n",
    "word_vec = word2vec_model.wv[word]\n",
    "kmeans_model.predict([word_vec])"
   ]
  },
  {
   "cell_type": "code",
   "execution_count": null,
   "metadata": {
    "colab": {
     "base_uri": "https://localhost:8080/"
    },
    "id": "vIDuLDOlYTp5",
    "outputId": "eae37f20-1de0-498d-a327-ce60d7336fb0"
   },
   "outputs": [],
   "source": [
    "#check cluster membership\n",
    "word = 'sad'\n",
    "word_vec = word2vec_model.wv[word]\n",
    "kmeans_model.predict([word_vec])"
   ]
  },
  {
   "cell_type": "markdown",
   "metadata": {
    "id": "cZOEGH3GYTp5"
   },
   "source": [
    "\n",
    "## 9. High-dimension Visualization: t-SNE\n",
    "\n",
    "No matter if you use the Bag-of-words, TF-IDF, or Word2Vec, it's very hard to see the embedding result, because the dimension is larger than 3.  \n",
    "\n",
    "In Lab 1, we already talked about PCA. We can use PCA to reduce the dimension of our data, then visualize it. However, if you dig deeper into the result, you'd find it is insufficient.\n",
    "\n",
    "Our aim will be to create a visualization similar to the one below:"
   ]
  },
  {
   "cell_type": "markdown",
   "metadata": {
    "id": "4FeIFzzxYTp5"
   },
   "source": [
    "  "
   ]
  },
  {
   "cell_type": "markdown",
   "metadata": {
    "id": "3-JR-rqyYTp5"
   },
   "source": [
    "![Image](pics/pic7.png)\n",
    "source: https://www.fabian-keller.de/research/high-dimensional-data-visualization "
   ]
  },
  {
   "cell_type": "markdown",
   "metadata": {
    "id": "KCFR771SYTp5"
   },
   "source": [
    "  "
   ]
  },
  {
   "cell_type": "markdown",
   "metadata": {
    "id": "tmdbJbjxYTp5"
   },
   "source": [
    "Here we would like to introduce another visualization method called t-SNE.  \n",
    "http://scikit-learn.org/stable/modules/generated/sklearn.manifold.TSNE.html "
   ]
  },
  {
   "cell_type": "markdown",
   "metadata": {
    "id": "MU8eeDnGYTp5"
   },
   "source": [
    "### 9.1 Prepare visualizing target"
   ]
  },
  {
   "cell_type": "markdown",
   "metadata": {
    "id": "T9IHcP3VYTp5"
   },
   "source": [
    "Let's prepare data lists like:\n",
    "- happy words\n",
    "- angry words\n",
    "- data words\n",
    "- mining words"
   ]
  },
  {
   "cell_type": "code",
   "execution_count": 67,
   "metadata": {
    "colab": {
     "base_uri": "https://localhost:8080/"
    },
    "id": "L9il5L7pYTp5",
    "outputId": "91d18f86-d137-4771-94db-ca7542d5a8d6"
   },
   "outputs": [
    {
     "name": "stdout",
     "output_type": "stream",
     "text": [
      "happy_words:  ['happy', 'glad', 'pleased', 'ecstatic', 'overjoyed', 'thrilled']\n",
      "angry_words:  ['angry', 'irate', 'enraged', 'indignant', 'incensed', 'annoyed']\n",
      "data_words:  ['data', 'Data', 'datasets', 'dataset', 'databases', 'statistics']\n",
      "mining_words:  ['mining', 'Mining', 'mines', 'coal_mining', 'mine', 'miner']\n",
      "\n",
      "target words: \n",
      "['happy', 'glad', 'pleased', 'ecstatic', 'overjoyed', 'thrilled', 'angry', 'irate', 'enraged', 'indignant', 'incensed', 'annoyed', 'data', 'Data', 'datasets', 'dataset', 'databases', 'statistics', 'mining', 'Mining', 'mines', 'coal_mining', 'mine', 'miner']\n",
      "\n",
      "color list:\n",
      "['b', 'b', 'b', 'b', 'b', 'b', 'g', 'g', 'g', 'g', 'g', 'g', 'r', 'r', 'r', 'r', 'r', 'r', 'y', 'y', 'y', 'y', 'y', 'y']\n"
     ]
    }
   ],
   "source": [
    "word_list = ['happy', 'angry', 'data', 'mining']\n",
    "\n",
    "topn = 5\n",
    "happy_words = ['happy'] + [word_ for word_, sim_ in w2v_google_model.most_similar('happy', topn=topn)]\n",
    "angry_words = ['angry'] + [word_ for word_, sim_ in w2v_google_model.most_similar('angry', topn=topn)]        \n",
    "data_words = ['data'] + [word_ for word_, sim_ in w2v_google_model.most_similar('data', topn=topn)]        \n",
    "mining_words = ['mining'] + [word_ for word_, sim_ in w2v_google_model.most_similar('mining', topn=topn)]        \n",
    "\n",
    "print('happy_words: ', happy_words)\n",
    "print('angry_words: ', angry_words)\n",
    "print('data_words: ', data_words)\n",
    "print('mining_words: ', mining_words)\n",
    "\n",
    "target_words = happy_words + angry_words + data_words + mining_words\n",
    "print('\\ntarget words: ')\n",
    "print(target_words)\n",
    "\n",
    "print('\\ncolor list:')\n",
    "cn = topn + 1\n",
    "color = ['b'] * cn + ['g'] * cn + ['r'] * cn + ['y'] * cn\n",
    "print(color)"
   ]
  },
  {
   "cell_type": "markdown",
   "metadata": {
    "id": "zKa5LRxbYTp5"
   },
   "source": [
    "### 9.2 Plot using t-SNE (2-dimension)"
   ]
  },
  {
   "cell_type": "code",
   "execution_count": 68,
   "metadata": {
    "colab": {
     "base_uri": "https://localhost:8080/",
     "height": 717
    },
    "id": "CJlljN2gYTp5",
    "outputId": "cdd792e6-0a15-4189-d611-02b1aa42ddb1"
   },
   "outputs": [
    {
     "data": {
      "image/png": "[encoded data removed]",
      "text/plain": [
       "<Figure size 862.5x862.5 with 1 Axes>"
      ]
     },
     "metadata": {},
     "output_type": "display_data"
    }
   ],
   "source": [
    "%matplotlib inline\n",
    "import matplotlib.pyplot as plt\n",
    "from sklearn.manifold import TSNE\n",
    "\n",
    "## w2v model\n",
    "model = w2v_google_model\n",
    "\n",
    "## prepare training word vectors\n",
    "size = 200\n",
    "target_size = len(target_words)\n",
    "all_word = list(model.index_to_key)\n",
    "word_train = target_words + all_word[:size]\n",
    "X_train = model[word_train]\n",
    "\n",
    "## t-SNE model\n",
    "tsne = TSNE(n_components=2, metric='cosine', random_state=28)\n",
    "\n",
    "## training\n",
    "X_tsne = tsne.fit_transform(X_train)\n",
    "\n",
    "## plot the result\n",
    "plt.figure(figsize=(7.5, 7.5), dpi=115)\n",
    "plt.scatter(X_tsne[:target_size, 0], X_tsne[:target_size, 1], c=color)\n",
    "for label, x, y in zip(target_words, X_tsne[:target_size, 0], X_tsne[:target_size, 1]):\n",
    "    plt.annotate(label, xy=(x,y), xytext=(0,0),  textcoords='offset points')\n",
    "plt.show()"
   ]
  },
  {
   "cell_type": "markdown",
   "metadata": {
    "id": "2PL61rqYYTp5"
   },
   "source": [
    "---\n",
    "### ** >>> Exercise 8 (Take home): **  \n",
    "\n",
    "Generate a t-SNE visualization to show the 15 words most related to the words \"angry\", \"happy\", \"sad\", \"fear\" (60 words total)."
   ]
  },
  {
   "cell_type": "code",
   "execution_count": null,
   "metadata": {
    "id": "rvh7ymeNYTp5"
   },
   "outputs": [],
   "source": [
    "# Answer here\n"
   ]
  },
  {
   "cell_type": "markdown",
   "metadata": {
    "id": "_fF1woa8YTp5"
   },
   "source": [
    "---"
   ]
  }
 ],
 "metadata": {
  "colab": {
   "collapsed_sections": [
    "4e5eiVLOYTp5"
   ],
   "provenance": []
  },
  "kernelspec": {
   "display_name": "Python 3 (ipykernel)",
   "language": "python",
   "name": "python3"
  },
  "language_info": {
   "codemirror_mode": {
    "name": "ipython",
    "version": 3
   },
   "file_extension": ".py",
   "mimetype": "text/x-python",
   "name": "python",
   "nbconvert_exporter": "python",
   "pygments_lexer": "ipython3",
   "version": "3.11.3"
  },
  "varInspector": {
   "cols": {
    "lenName": 16,
    "lenType": 16,
    "lenVar": 40
   },
   "kernels_config": {
    "python": {
     "delete_cmd_postfix": "",
     "delete_cmd_prefix": "del ",
     "library": "var_list.py",
     "varRefreshCmd": "print(var_dic_list())"
    },
    "r": {
     "delete_cmd_postfix": ") ",
     "delete_cmd_prefix": "rm(",
     "library": "var_list.r",
     "varRefreshCmd": "cat(var_dic_list()) "
    }
   },
   "oldHeight": 594.85,
   "position": {
    "height": "40px",
    "left": "723px",
    "right": "20px",
    "top": "80px",
    "width": "250px"
   },
   "types_to_exclude": [
    "module",
    "function",
    "builtin_function_or_method",
    "instance",
    "_Feature"
   ],
   "varInspector_section_display": "none",
   "window_display": true
  }
 },
 "nbformat": 4,
 "nbformat_minor": 1
}
